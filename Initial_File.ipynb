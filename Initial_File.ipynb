{
 "cells": [
  {
   "cell_type": "markdown",
   "metadata": {},
   "source": [
    "# Below I have created model to predict article type"
   ]
  },
  {
   "cell_type": "code",
   "execution_count": 43,
   "metadata": {},
   "outputs": [],
   "source": [
    "import pandas as pd\n",
    "from keras.preprocessing.image import ImageDataGenerator\n",
    "from keras.preprocessing.image import array_to_img, img_to_array, load_img\n",
    "from keras.models import Sequential, Model\n",
    "from keras.layers import Conv2D, MaxPooling2D, Dense, Dropout, Flatten, Activation, GaussianNoise\n",
    "from keras.layers import LeakyReLU\n",
    "from keras.models import load_model\n",
    "import tensorflow as tf\n",
    "from sklearn.model_selection import train_test_split\n",
    "import time\n",
    "import datetime\n",
    "from sklearn.metrics import classification_report, confusion_matrix, accuracy_score\n",
    "import numpy as np\n",
    "import matplotlib.pyplot as plt\n",
    "import os\n",
    "from keras.models import Sequential\n",
    "from sklearn.neighbors import KNeighborsClassifier\n",
    "from sklearn.neighbors import NearestNeighbors"
   ]
  },
  {
   "cell_type": "markdown",
   "metadata": {},
   "source": [
    "# Final.csv Contains all the changes i have done below in the code "
   ]
  },
  {
   "cell_type": "code",
   "execution_count": 2,
   "metadata": {},
   "outputs": [],
   "source": [
    "df = pd.read_csv('Final.csv',error_bad_lines=False)"
   ]
  },
  {
   "cell_type": "markdown",
   "metadata": {},
   "source": [
    "# Editing Original Style.csv File and saving all the changes in Final.csv. "
   ]
  },
  {
   "cell_type": "code",
   "execution_count": 5,
   "metadata": {},
   "outputs": [],
   "source": [
    "options = ['Apparel', 'Accessories', 'Footwear'] \n",
    "  \n",
    "# selecting rows based on condition \n",
    "final = df.loc[df['masterCategory'].isin(options)] "
   ]
  },
  {
   "cell_type": "code",
   "execution_count": 6,
   "metadata": {},
   "outputs": [
    {
     "data": {
      "text/plain": [
       "Apparel        21397\n",
       "Accessories    11274\n",
       "Footwear        9219\n",
       "Name: masterCategory, dtype: int64"
      ]
     },
     "execution_count": 6,
     "metadata": {},
     "output_type": "execute_result"
    }
   ],
   "source": [
    "final.masterCategory.value_counts()"
   ]
  },
  {
   "cell_type": "code",
   "execution_count": 8,
   "metadata": {},
   "outputs": [],
   "source": [
    "final.to_csv('Editted.csv')"
   ]
  },
  {
   "cell_type": "code",
   "execution_count": 9,
   "metadata": {},
   "outputs": [
    {
     "data": {
      "text/plain": [
       "Apparel           21397\n",
       "Accessories       11274\n",
       "Footwear           9219\n",
       "Personal Care      2403\n",
       "Free Items          105\n",
       "Sporting Goods       25\n",
       "Home                  1\n",
       "Name: masterCategory, dtype: int64"
      ]
     },
     "execution_count": 9,
     "metadata": {},
     "output_type": "execute_result"
    }
   ],
   "source": [
    "df.masterCategory.value_counts()"
   ]
  },
  {
   "cell_type": "code",
   "execution_count": 10,
   "metadata": {},
   "outputs": [
    {
     "data": {
      "text/plain": [
       "Personal Care     2403\n",
       "Free Items         105\n",
       "Sporting Goods      25\n",
       "Home                 1\n",
       "Name: masterCategory, dtype: int64"
      ]
     },
     "execution_count": 10,
     "metadata": {},
     "output_type": "execute_result"
    }
   ],
   "source": [
    "options = ['Personal Care', 'Free Items', 'Sporting Goods', 'Home']\n",
    "\n",
    "temp = df.loc[df['masterCategory'].isin(options)]\n",
    "\n",
    "temp.masterCategory.value_counts()"
   ]
  },
  {
   "cell_type": "code",
   "execution_count": 11,
   "metadata": {},
   "outputs": [
    {
     "data": {
      "text/html": [
       "<div>\n",
       "<style scoped>\n",
       "    .dataframe tbody tr th:only-of-type {\n",
       "        vertical-align: middle;\n",
       "    }\n",
       "\n",
       "    .dataframe tbody tr th {\n",
       "        vertical-align: top;\n",
       "    }\n",
       "\n",
       "    .dataframe thead th {\n",
       "        text-align: right;\n",
       "    }\n",
       "</style>\n",
       "<table border=\"1\" class=\"dataframe\">\n",
       "  <thead>\n",
       "    <tr style=\"text-align: right;\">\n",
       "      <th></th>\n",
       "      <th>id</th>\n",
       "      <th>gender</th>\n",
       "      <th>masterCategory</th>\n",
       "      <th>subCategory</th>\n",
       "      <th>articleType</th>\n",
       "      <th>baseColour</th>\n",
       "      <th>season</th>\n",
       "      <th>year</th>\n",
       "      <th>usage</th>\n",
       "      <th>productDisplayName</th>\n",
       "    </tr>\n",
       "  </thead>\n",
       "  <tbody>\n",
       "    <tr>\n",
       "      <th>35931</th>\n",
       "      <td>1550</td>\n",
       "      <td>Unisex</td>\n",
       "      <td>Sporting Goods</td>\n",
       "      <td>Sports Equipment</td>\n",
       "      <td>Footballs</td>\n",
       "      <td>White</td>\n",
       "      <td>Fall</td>\n",
       "      <td>2010.0</td>\n",
       "      <td>Sports</td>\n",
       "      <td>Puma Cat Trainer-WBL Football</td>\n",
       "    </tr>\n",
       "    <tr>\n",
       "      <th>37741</th>\n",
       "      <td>1551</td>\n",
       "      <td>Unisex</td>\n",
       "      <td>Sporting Goods</td>\n",
       "      <td>Sports Equipment</td>\n",
       "      <td>Footballs</td>\n",
       "      <td>Orange</td>\n",
       "      <td>Fall</td>\n",
       "      <td>2010.0</td>\n",
       "      <td>Sports</td>\n",
       "      <td>Puma Power Cat Trainer-OB Football</td>\n",
       "    </tr>\n",
       "    <tr>\n",
       "      <th>14507</th>\n",
       "      <td>1552</td>\n",
       "      <td>Unisex</td>\n",
       "      <td>Sporting Goods</td>\n",
       "      <td>Sports Equipment</td>\n",
       "      <td>Footballs</td>\n",
       "      <td>White</td>\n",
       "      <td>Fall</td>\n",
       "      <td>2010.0</td>\n",
       "      <td>Sports</td>\n",
       "      <td>Puma Power Cat Trainer-WR Football</td>\n",
       "    </tr>\n",
       "    <tr>\n",
       "      <th>11915</th>\n",
       "      <td>1553</td>\n",
       "      <td>Unisex</td>\n",
       "      <td>Sporting Goods</td>\n",
       "      <td>Sports Equipment</td>\n",
       "      <td>Footballs</td>\n",
       "      <td>White</td>\n",
       "      <td>Fall</td>\n",
       "      <td>2010.0</td>\n",
       "      <td>Sports</td>\n",
       "      <td>Puma Power Cat Hard Ground Football</td>\n",
       "    </tr>\n",
       "    <tr>\n",
       "      <th>42801</th>\n",
       "      <td>1626</td>\n",
       "      <td>Unisex</td>\n",
       "      <td>Sporting Goods</td>\n",
       "      <td>Sports Equipment</td>\n",
       "      <td>Footballs</td>\n",
       "      <td>Blue</td>\n",
       "      <td>Summer</td>\n",
       "      <td>2011.0</td>\n",
       "      <td>Sports</td>\n",
       "      <td>Kipsta F300 Football Size 5 Football</td>\n",
       "    </tr>\n",
       "    <tr>\n",
       "      <th>...</th>\n",
       "      <td>...</td>\n",
       "      <td>...</td>\n",
       "      <td>...</td>\n",
       "      <td>...</td>\n",
       "      <td>...</td>\n",
       "      <td>...</td>\n",
       "      <td>...</td>\n",
       "      <td>...</td>\n",
       "      <td>...</td>\n",
       "      <td>...</td>\n",
       "    </tr>\n",
       "    <tr>\n",
       "      <th>29888</th>\n",
       "      <td>59949</td>\n",
       "      <td>Women</td>\n",
       "      <td>Personal Care</td>\n",
       "      <td>Fragrance</td>\n",
       "      <td>Deodorant</td>\n",
       "      <td>Orange</td>\n",
       "      <td>Spring</td>\n",
       "      <td>2017.0</td>\n",
       "      <td>Casual</td>\n",
       "      <td>Taylor of London Women Hawaii Deo</td>\n",
       "    </tr>\n",
       "    <tr>\n",
       "      <th>15747</th>\n",
       "      <td>59950</td>\n",
       "      <td>Women</td>\n",
       "      <td>Personal Care</td>\n",
       "      <td>Fragrance</td>\n",
       "      <td>Deodorant</td>\n",
       "      <td>Yellow</td>\n",
       "      <td>Spring</td>\n",
       "      <td>2017.0</td>\n",
       "      <td>Casual</td>\n",
       "      <td>Taylor of London Women Kashmir Deo</td>\n",
       "    </tr>\n",
       "    <tr>\n",
       "      <th>13233</th>\n",
       "      <td>59951</td>\n",
       "      <td>Women</td>\n",
       "      <td>Personal Care</td>\n",
       "      <td>Fragrance</td>\n",
       "      <td>Deodorant</td>\n",
       "      <td>Blue</td>\n",
       "      <td>Spring</td>\n",
       "      <td>2017.0</td>\n",
       "      <td>Casual</td>\n",
       "      <td>Taylor of London Lace Perfumed Body Spray</td>\n",
       "    </tr>\n",
       "    <tr>\n",
       "      <th>16355</th>\n",
       "      <td>59961</td>\n",
       "      <td>Men</td>\n",
       "      <td>Personal Care</td>\n",
       "      <td>Fragrance</td>\n",
       "      <td>Deodorant</td>\n",
       "      <td>Green</td>\n",
       "      <td>Spring</td>\n",
       "      <td>2017.0</td>\n",
       "      <td>Casual</td>\n",
       "      <td>Denim Men Sync Deo</td>\n",
       "    </tr>\n",
       "    <tr>\n",
       "      <th>36801</th>\n",
       "      <td>59962</td>\n",
       "      <td>Men</td>\n",
       "      <td>Personal Care</td>\n",
       "      <td>Fragrance</td>\n",
       "      <td>Deodorant</td>\n",
       "      <td>Gold</td>\n",
       "      <td>Spring</td>\n",
       "      <td>2017.0</td>\n",
       "      <td>Casual</td>\n",
       "      <td>Denim Men Vibe Deo</td>\n",
       "    </tr>\n",
       "  </tbody>\n",
       "</table>\n",
       "<p>2534 rows × 10 columns</p>\n",
       "</div>"
      ],
      "text/plain": [
       "          id  gender  masterCategory       subCategory articleType baseColour  \\\n",
       "35931   1550  Unisex  Sporting Goods  Sports Equipment   Footballs      White   \n",
       "37741   1551  Unisex  Sporting Goods  Sports Equipment   Footballs     Orange   \n",
       "14507   1552  Unisex  Sporting Goods  Sports Equipment   Footballs      White   \n",
       "11915   1553  Unisex  Sporting Goods  Sports Equipment   Footballs      White   \n",
       "42801   1626  Unisex  Sporting Goods  Sports Equipment   Footballs       Blue   \n",
       "...      ...     ...             ...               ...         ...        ...   \n",
       "29888  59949   Women   Personal Care         Fragrance   Deodorant     Orange   \n",
       "15747  59950   Women   Personal Care         Fragrance   Deodorant     Yellow   \n",
       "13233  59951   Women   Personal Care         Fragrance   Deodorant       Blue   \n",
       "16355  59961     Men   Personal Care         Fragrance   Deodorant      Green   \n",
       "36801  59962     Men   Personal Care         Fragrance   Deodorant       Gold   \n",
       "\n",
       "       season    year   usage                         productDisplayName  \n",
       "35931    Fall  2010.0  Sports              Puma Cat Trainer-WBL Football  \n",
       "37741    Fall  2010.0  Sports         Puma Power Cat Trainer-OB Football  \n",
       "14507    Fall  2010.0  Sports         Puma Power Cat Trainer-WR Football  \n",
       "11915    Fall  2010.0  Sports        Puma Power Cat Hard Ground Football  \n",
       "42801  Summer  2011.0  Sports       Kipsta F300 Football Size 5 Football  \n",
       "...       ...     ...     ...                                        ...  \n",
       "29888  Spring  2017.0  Casual          Taylor of London Women Hawaii Deo  \n",
       "15747  Spring  2017.0  Casual         Taylor of London Women Kashmir Deo  \n",
       "13233  Spring  2017.0  Casual  Taylor of London Lace Perfumed Body Spray  \n",
       "16355  Spring  2017.0  Casual                         Denim Men Sync Deo  \n",
       "36801  Spring  2017.0  Casual                         Denim Men Vibe Deo  \n",
       "\n",
       "[2534 rows x 10 columns]"
      ]
     },
     "execution_count": 11,
     "metadata": {},
     "output_type": "execute_result"
    }
   ],
   "source": [
    "temp.sort_values(by = 'id')"
   ]
  },
  {
   "cell_type": "code",
   "execution_count": 12,
   "metadata": {},
   "outputs": [],
   "source": [
    "label  = temp['id']"
   ]
  },
  {
   "cell_type": "code",
   "execution_count": 13,
   "metadata": {},
   "outputs": [],
   "source": [
    "label= label.tolist()"
   ]
  },
  {
   "cell_type": "code",
   "execution_count": 14,
   "metadata": {},
   "outputs": [],
   "source": [
    "label.sort()"
   ]
  },
  {
   "cell_type": "code",
   "execution_count": 17,
   "metadata": {},
   "outputs": [
    {
     "data": {
      "text/plain": [
       "2534"
      ]
     },
     "execution_count": 17,
     "metadata": {},
     "output_type": "execute_result"
    }
   ],
   "source": [
    "len(label)"
   ]
  },
  {
   "cell_type": "code",
   "execution_count": 16,
   "metadata": {},
   "outputs": [
    {
     "data": {
      "text/plain": [
       "2534"
      ]
     },
     "execution_count": 16,
     "metadata": {},
     "output_type": "execute_result"
    }
   ],
   "source": [
    "len(label)"
   ]
  },
  {
   "cell_type": "code",
   "execution_count": 37,
   "metadata": {},
   "outputs": [
    {
     "data": {
      "text/plain": [
       "'C:\\\\Users\\\\dell\\\\OneDrive\\\\Recoomendation System\\\\images'"
      ]
     },
     "execution_count": 37,
     "metadata": {},
     "output_type": "execute_result"
    }
   ],
   "source": [
    "os.getcwd()"
   ]
  },
  {
   "cell_type": "code",
   "execution_count": 19,
   "metadata": {},
   "outputs": [],
   "source": [
    "os.chdir('images/')"
   ]
  },
  {
   "cell_type": "code",
   "execution_count": 20,
   "metadata": {},
   "outputs": [],
   "source": [
    "for i in range(0, len(label)):\n",
    "    delete = str(label[i]) + '.jpg'\n",
    "    os.remove(delete)"
   ]
  },
  {
   "cell_type": "code",
   "execution_count": 21,
   "metadata": {},
   "outputs": [
    {
     "data": {
      "text/plain": [
       "41890"
      ]
     },
     "execution_count": 21,
     "metadata": {},
     "output_type": "execute_result"
    }
   ],
   "source": [
    "len(final)"
   ]
  },
  {
   "cell_type": "code",
   "execution_count": 22,
   "metadata": {},
   "outputs": [
    {
     "data": {
      "text/html": [
       "<div>\n",
       "<style scoped>\n",
       "    .dataframe tbody tr th:only-of-type {\n",
       "        vertical-align: middle;\n",
       "    }\n",
       "\n",
       "    .dataframe tbody tr th {\n",
       "        vertical-align: top;\n",
       "    }\n",
       "\n",
       "    .dataframe thead th {\n",
       "        text-align: right;\n",
       "    }\n",
       "</style>\n",
       "<table border=\"1\" class=\"dataframe\">\n",
       "  <thead>\n",
       "    <tr style=\"text-align: right;\">\n",
       "      <th></th>\n",
       "      <th>id</th>\n",
       "      <th>gender</th>\n",
       "      <th>masterCategory</th>\n",
       "      <th>subCategory</th>\n",
       "      <th>articleType</th>\n",
       "      <th>baseColour</th>\n",
       "      <th>season</th>\n",
       "      <th>year</th>\n",
       "      <th>usage</th>\n",
       "      <th>productDisplayName</th>\n",
       "    </tr>\n",
       "  </thead>\n",
       "  <tbody>\n",
       "    <tr>\n",
       "      <th>0</th>\n",
       "      <td>15970</td>\n",
       "      <td>Men</td>\n",
       "      <td>Apparel</td>\n",
       "      <td>Topwear</td>\n",
       "      <td>Shirts</td>\n",
       "      <td>Navy Blue</td>\n",
       "      <td>Fall</td>\n",
       "      <td>2011.0</td>\n",
       "      <td>Casual</td>\n",
       "      <td>Turtle Check Men Navy Blue Shirt</td>\n",
       "    </tr>\n",
       "    <tr>\n",
       "      <th>1</th>\n",
       "      <td>39386</td>\n",
       "      <td>Men</td>\n",
       "      <td>Apparel</td>\n",
       "      <td>Bottomwear</td>\n",
       "      <td>Jeans</td>\n",
       "      <td>Blue</td>\n",
       "      <td>Summer</td>\n",
       "      <td>2012.0</td>\n",
       "      <td>Casual</td>\n",
       "      <td>Peter England Men Party Blue Jeans</td>\n",
       "    </tr>\n",
       "    <tr>\n",
       "      <th>2</th>\n",
       "      <td>59263</td>\n",
       "      <td>Women</td>\n",
       "      <td>Accessories</td>\n",
       "      <td>Watches</td>\n",
       "      <td>Watches</td>\n",
       "      <td>Silver</td>\n",
       "      <td>Winter</td>\n",
       "      <td>2016.0</td>\n",
       "      <td>Casual</td>\n",
       "      <td>Titan Women Silver Watch</td>\n",
       "    </tr>\n",
       "    <tr>\n",
       "      <th>3</th>\n",
       "      <td>21379</td>\n",
       "      <td>Men</td>\n",
       "      <td>Apparel</td>\n",
       "      <td>Bottomwear</td>\n",
       "      <td>Track Pants</td>\n",
       "      <td>Black</td>\n",
       "      <td>Fall</td>\n",
       "      <td>2011.0</td>\n",
       "      <td>Casual</td>\n",
       "      <td>Manchester United Men Solid Black Track Pants</td>\n",
       "    </tr>\n",
       "    <tr>\n",
       "      <th>4</th>\n",
       "      <td>53759</td>\n",
       "      <td>Men</td>\n",
       "      <td>Apparel</td>\n",
       "      <td>Topwear</td>\n",
       "      <td>Tshirts</td>\n",
       "      <td>Grey</td>\n",
       "      <td>Summer</td>\n",
       "      <td>2012.0</td>\n",
       "      <td>Casual</td>\n",
       "      <td>Puma Men Grey T-shirt</td>\n",
       "    </tr>\n",
       "  </tbody>\n",
       "</table>\n",
       "</div>"
      ],
      "text/plain": [
       "      id gender masterCategory subCategory  articleType baseColour  season  \\\n",
       "0  15970    Men        Apparel     Topwear       Shirts  Navy Blue    Fall   \n",
       "1  39386    Men        Apparel  Bottomwear        Jeans       Blue  Summer   \n",
       "2  59263  Women    Accessories     Watches      Watches     Silver  Winter   \n",
       "3  21379    Men        Apparel  Bottomwear  Track Pants      Black    Fall   \n",
       "4  53759    Men        Apparel     Topwear      Tshirts       Grey  Summer   \n",
       "\n",
       "     year   usage                             productDisplayName  \n",
       "0  2011.0  Casual               Turtle Check Men Navy Blue Shirt  \n",
       "1  2012.0  Casual             Peter England Men Party Blue Jeans  \n",
       "2  2016.0  Casual                       Titan Women Silver Watch  \n",
       "3  2011.0  Casual  Manchester United Men Solid Black Track Pants  \n",
       "4  2012.0  Casual                          Puma Men Grey T-shirt  "
      ]
     },
     "execution_count": 22,
     "metadata": {},
     "output_type": "execute_result"
    }
   ],
   "source": [
    "final.head()"
   ]
  },
  {
   "cell_type": "code",
   "execution_count": 23,
   "metadata": {},
   "outputs": [],
   "source": [
    "label  = final['id']"
   ]
  },
  {
   "cell_type": "code",
   "execution_count": 50,
   "metadata": {},
   "outputs": [],
   "source": [
    "temp = final.articleType.value_counts()\n"
   ]
  },
  {
   "cell_type": "code",
   "execution_count": 51,
   "metadata": {},
   "outputs": [
    {
     "data": {
      "text/plain": [
       "Tshirts                  7067\n",
       "Shirts                   3217\n",
       "Casual Shoes             2845\n",
       "Watches                  2542\n",
       "Sports Shoes             2036\n",
       "                         ... \n",
       "Rain Trousers               2\n",
       "Hair Accessory              1\n",
       "Perfume and Body Mist       1\n",
       "Suits                       1\n",
       "Shoe Laces                  1\n",
       "Name: articleType, Length: 108, dtype: int64"
      ]
     },
     "execution_count": 51,
     "metadata": {},
     "output_type": "execute_result"
    }
   ],
   "source": [
    "temp"
   ]
  },
  {
   "cell_type": "code",
   "execution_count": 52,
   "metadata": {},
   "outputs": [],
   "source": [
    "dropList = []\n",
    "for i in range(len(temp)):\n",
    "    if(temp[i] >50):\n",
    "        dropList.append(temp.index[i])"
   ]
  },
  {
   "cell_type": "code",
   "execution_count": 53,
   "metadata": {
    "scrolled": true
   },
   "outputs": [
    {
     "data": {
      "text/plain": [
       "['Tshirts',\n",
       " 'Shirts',\n",
       " 'Casual Shoes',\n",
       " 'Watches',\n",
       " 'Sports Shoes',\n",
       " 'Kurtas',\n",
       " 'Tops',\n",
       " 'Handbags',\n",
       " 'Heels',\n",
       " 'Sunglasses',\n",
       " 'Wallets',\n",
       " 'Flip Flops',\n",
       " 'Sandals',\n",
       " 'Briefs',\n",
       " 'Belts',\n",
       " 'Backpacks',\n",
       " 'Socks',\n",
       " 'Formal Shoes',\n",
       " 'Jeans',\n",
       " 'Shorts',\n",
       " 'Trousers',\n",
       " 'Flats',\n",
       " 'Bra',\n",
       " 'Dresses',\n",
       " 'Sarees',\n",
       " 'Earrings',\n",
       " 'Track Pants',\n",
       " 'Clutches',\n",
       " 'Sweatshirts',\n",
       " 'Caps',\n",
       " 'Sweaters',\n",
       " 'Ties',\n",
       " 'Jackets',\n",
       " 'Innerwear Vests',\n",
       " 'Kurtis',\n",
       " 'Tunics',\n",
       " 'Nightdress',\n",
       " 'Leggings',\n",
       " 'Pendant',\n",
       " 'Capris',\n",
       " 'Necklace and Chains',\n",
       " 'Night suits',\n",
       " 'Trunk',\n",
       " 'Skirts',\n",
       " 'Ring',\n",
       " 'Scarves',\n",
       " 'Dupatta',\n",
       " 'Cufflinks',\n",
       " 'Accessory Gift Set',\n",
       " 'Kurta Sets',\n",
       " 'Stoles',\n",
       " 'Duffel Bag',\n",
       " 'Bangle',\n",
       " 'Laptop Bag',\n",
       " 'Sports Sandals',\n",
       " 'Bracelet',\n",
       " 'Lounge Pants',\n",
       " 'Jewellery Set',\n",
       " 'Boxers']"
      ]
     },
     "execution_count": 53,
     "metadata": {},
     "output_type": "execute_result"
    }
   ],
   "source": [
    "dropList"
   ]
  },
  {
   "cell_type": "code",
   "execution_count": 54,
   "metadata": {
    "scrolled": true
   },
   "outputs": [
    {
     "data": {
      "text/plain": [
       "Tshirts                7067\n",
       "Shirts                 3217\n",
       "Casual Shoes           2845\n",
       "Watches                2542\n",
       "Sports Shoes           2036\n",
       "Kurtas                 1844\n",
       "Tops                   1762\n",
       "Handbags               1757\n",
       "Heels                  1323\n",
       "Sunglasses             1073\n",
       "Wallets                 935\n",
       "Flip Flops              914\n",
       "Sandals                 897\n",
       "Briefs                  849\n",
       "Belts                   813\n",
       "Backpacks               722\n",
       "Socks                   686\n",
       "Formal Shoes            637\n",
       "Jeans                   609\n",
       "Shorts                  547\n",
       "Trousers                530\n",
       "Flats                   500\n",
       "Bra                     477\n",
       "Dresses                 464\n",
       "Sarees                  427\n",
       "Earrings                416\n",
       "Track Pants             304\n",
       "Clutches                289\n",
       "Sweatshirts             285\n",
       "Caps                    283\n",
       "Sweaters                277\n",
       "Ties                    258\n",
       "Jackets                 258\n",
       "Innerwear Vests         242\n",
       "Kurtis                  234\n",
       "Tunics                  229\n",
       "Nightdress              189\n",
       "Leggings                177\n",
       "Pendant                 176\n",
       "Capris                  175\n",
       "Necklace and Chains     160\n",
       "Night suits             141\n",
       "Trunk                   140\n",
       "Skirts                  128\n",
       "Ring                    118\n",
       "Scarves                 118\n",
       "Dupatta                 116\n",
       "Cufflinks               106\n",
       "Accessory Gift Set       97\n",
       "Kurta Sets               94\n",
       "Stoles                   90\n",
       "Duffel Bag               88\n",
       "Bangle                   85\n",
       "Laptop Bag               81\n",
       "Sports Sandals           67\n",
       "Bracelet                 66\n",
       "Lounge Pants             61\n",
       "Jewellery Set            58\n",
       "Boxers                   52\n",
       "Name: articleType, dtype: int64"
      ]
     },
     "execution_count": 54,
     "metadata": {},
     "output_type": "execute_result"
    }
   ],
   "source": [
    "temp = final.loc[final['articleType'].isin(dropList)]\n",
    "\n",
    "temp.articleType.value_counts()"
   ]
  },
  {
   "cell_type": "code",
   "execution_count": 55,
   "metadata": {},
   "outputs": [
    {
     "data": {
      "text/html": [
       "<div>\n",
       "<style scoped>\n",
       "    .dataframe tbody tr th:only-of-type {\n",
       "        vertical-align: middle;\n",
       "    }\n",
       "\n",
       "    .dataframe tbody tr th {\n",
       "        vertical-align: top;\n",
       "    }\n",
       "\n",
       "    .dataframe thead th {\n",
       "        text-align: right;\n",
       "    }\n",
       "</style>\n",
       "<table border=\"1\" class=\"dataframe\">\n",
       "  <thead>\n",
       "    <tr style=\"text-align: right;\">\n",
       "      <th></th>\n",
       "      <th>id</th>\n",
       "      <th>gender</th>\n",
       "      <th>masterCategory</th>\n",
       "      <th>subCategory</th>\n",
       "      <th>articleType</th>\n",
       "      <th>baseColour</th>\n",
       "      <th>season</th>\n",
       "      <th>year</th>\n",
       "      <th>usage</th>\n",
       "      <th>productDisplayName</th>\n",
       "    </tr>\n",
       "  </thead>\n",
       "  <tbody>\n",
       "    <tr>\n",
       "      <th>0</th>\n",
       "      <td>15970</td>\n",
       "      <td>Men</td>\n",
       "      <td>Apparel</td>\n",
       "      <td>Topwear</td>\n",
       "      <td>Shirts</td>\n",
       "      <td>Navy Blue</td>\n",
       "      <td>Fall</td>\n",
       "      <td>2011.0</td>\n",
       "      <td>Casual</td>\n",
       "      <td>Turtle Check Men Navy Blue Shirt</td>\n",
       "    </tr>\n",
       "    <tr>\n",
       "      <th>1</th>\n",
       "      <td>39386</td>\n",
       "      <td>Men</td>\n",
       "      <td>Apparel</td>\n",
       "      <td>Bottomwear</td>\n",
       "      <td>Jeans</td>\n",
       "      <td>Blue</td>\n",
       "      <td>Summer</td>\n",
       "      <td>2012.0</td>\n",
       "      <td>Casual</td>\n",
       "      <td>Peter England Men Party Blue Jeans</td>\n",
       "    </tr>\n",
       "    <tr>\n",
       "      <th>2</th>\n",
       "      <td>59263</td>\n",
       "      <td>Women</td>\n",
       "      <td>Accessories</td>\n",
       "      <td>Watches</td>\n",
       "      <td>Watches</td>\n",
       "      <td>Silver</td>\n",
       "      <td>Winter</td>\n",
       "      <td>2016.0</td>\n",
       "      <td>Casual</td>\n",
       "      <td>Titan Women Silver Watch</td>\n",
       "    </tr>\n",
       "    <tr>\n",
       "      <th>3</th>\n",
       "      <td>21379</td>\n",
       "      <td>Men</td>\n",
       "      <td>Apparel</td>\n",
       "      <td>Bottomwear</td>\n",
       "      <td>Track Pants</td>\n",
       "      <td>Black</td>\n",
       "      <td>Fall</td>\n",
       "      <td>2011.0</td>\n",
       "      <td>Casual</td>\n",
       "      <td>Manchester United Men Solid Black Track Pants</td>\n",
       "    </tr>\n",
       "    <tr>\n",
       "      <th>4</th>\n",
       "      <td>53759</td>\n",
       "      <td>Men</td>\n",
       "      <td>Apparel</td>\n",
       "      <td>Topwear</td>\n",
       "      <td>Tshirts</td>\n",
       "      <td>Grey</td>\n",
       "      <td>Summer</td>\n",
       "      <td>2012.0</td>\n",
       "      <td>Casual</td>\n",
       "      <td>Puma Men Grey T-shirt</td>\n",
       "    </tr>\n",
       "  </tbody>\n",
       "</table>\n",
       "</div>"
      ],
      "text/plain": [
       "      id gender masterCategory subCategory  articleType baseColour  season  \\\n",
       "0  15970    Men        Apparel     Topwear       Shirts  Navy Blue    Fall   \n",
       "1  39386    Men        Apparel  Bottomwear        Jeans       Blue  Summer   \n",
       "2  59263  Women    Accessories     Watches      Watches     Silver  Winter   \n",
       "3  21379    Men        Apparel  Bottomwear  Track Pants      Black    Fall   \n",
       "4  53759    Men        Apparel     Topwear      Tshirts       Grey  Summer   \n",
       "\n",
       "     year   usage                             productDisplayName  \n",
       "0  2011.0  Casual               Turtle Check Men Navy Blue Shirt  \n",
       "1  2012.0  Casual             Peter England Men Party Blue Jeans  \n",
       "2  2016.0  Casual                       Titan Women Silver Watch  \n",
       "3  2011.0  Casual  Manchester United Men Solid Black Track Pants  \n",
       "4  2012.0  Casual                          Puma Men Grey T-shirt  "
      ]
     },
     "execution_count": 55,
     "metadata": {},
     "output_type": "execute_result"
    }
   ],
   "source": [
    "temp.head()"
   ]
  },
  {
   "cell_type": "code",
   "execution_count": 41,
   "metadata": {},
   "outputs": [],
   "source": [
    "label  = temp['id']"
   ]
  },
  {
   "cell_type": "code",
   "execution_count": 42,
   "metadata": {},
   "outputs": [],
   "source": [
    "label= label.tolist()"
   ]
  },
  {
   "cell_type": "code",
   "execution_count": 43,
   "metadata": {},
   "outputs": [],
   "source": [
    "label.sort()"
   ]
  },
  {
   "cell_type": "code",
   "execution_count": 44,
   "metadata": {},
   "outputs": [
    {
     "data": {
      "text/plain": [
       "758"
      ]
     },
     "execution_count": 44,
     "metadata": {},
     "output_type": "execute_result"
    }
   ],
   "source": [
    "len(label)"
   ]
  },
  {
   "cell_type": "code",
   "execution_count": 47,
   "metadata": {},
   "outputs": [],
   "source": [
    "for i in range(72, len(label)):\n",
    "    delete = str(label[i]) + '.jpg'\n",
    "    os.remove(delete)"
   ]
  },
  {
   "cell_type": "code",
   "execution_count": 46,
   "metadata": {},
   "outputs": [
    {
     "data": {
      "text/plain": [
       "71"
      ]
     },
     "execution_count": 46,
     "metadata": {},
     "output_type": "execute_result"
    }
   ],
   "source": [
    "i"
   ]
  },
  {
   "cell_type": "code",
   "execution_count": 56,
   "metadata": {},
   "outputs": [
    {
     "data": {
      "text/plain": [
       "41131"
      ]
     },
     "execution_count": 56,
     "metadata": {},
     "output_type": "execute_result"
    }
   ],
   "source": [
    "len(temp)"
   ]
  },
  {
   "cell_type": "code",
   "execution_count": 57,
   "metadata": {},
   "outputs": [],
   "source": [
    "temp.to_csv('Final.csv')"
   ]
  },
  {
   "cell_type": "code",
   "execution_count": 8,
   "metadata": {},
   "outputs": [
    {
     "data": {
      "text/plain": [
       "'C:\\\\Users\\\\dell\\\\OneDrive\\\\Recoomendation System'"
      ]
     },
     "execution_count": 8,
     "metadata": {},
     "output_type": "execute_result"
    }
   ],
   "source": [
    "os.getcwd()"
   ]
  },
  {
   "cell_type": "code",
   "execution_count": 62,
   "metadata": {},
   "outputs": [],
   "source": [
    "os.chdir('C:\\\\Users\\\\dell\\\\OneDrive\\\\Recoomendation System\\\\')"
   ]
  },
  {
   "cell_type": "code",
   "execution_count": 18,
   "metadata": {},
   "outputs": [],
   "source": [
    "df= pd.read_csv('Final.csv')"
   ]
  },
  {
   "cell_type": "code",
   "execution_count": 27,
   "metadata": {},
   "outputs": [
    {
     "data": {
      "text/html": [
       "<div>\n",
       "<style scoped>\n",
       "    .dataframe tbody tr th:only-of-type {\n",
       "        vertical-align: middle;\n",
       "    }\n",
       "\n",
       "    .dataframe tbody tr th {\n",
       "        vertical-align: top;\n",
       "    }\n",
       "\n",
       "    .dataframe thead th {\n",
       "        text-align: right;\n",
       "    }\n",
       "</style>\n",
       "<table border=\"1\" class=\"dataframe\">\n",
       "  <thead>\n",
       "    <tr style=\"text-align: right;\">\n",
       "      <th></th>\n",
       "      <th>id</th>\n",
       "      <th>gender</th>\n",
       "      <th>masterCategory</th>\n",
       "      <th>subCategory</th>\n",
       "      <th>articleType</th>\n",
       "      <th>baseColour</th>\n",
       "      <th>season</th>\n",
       "      <th>year</th>\n",
       "      <th>usage</th>\n",
       "      <th>productDisplayName</th>\n",
       "      <th>files</th>\n",
       "    </tr>\n",
       "  </thead>\n",
       "  <tbody>\n",
       "    <tr>\n",
       "      <th>0</th>\n",
       "      <td>15970</td>\n",
       "      <td>Men</td>\n",
       "      <td>Apparel</td>\n",
       "      <td>Topwear</td>\n",
       "      <td>Shirts</td>\n",
       "      <td>Navy Blue</td>\n",
       "      <td>Fall</td>\n",
       "      <td>2011.0</td>\n",
       "      <td>Casual</td>\n",
       "      <td>Turtle Check Men Navy Blue Shirt</td>\n",
       "      <td>15970.jpg</td>\n",
       "    </tr>\n",
       "    <tr>\n",
       "      <th>1</th>\n",
       "      <td>39386</td>\n",
       "      <td>Men</td>\n",
       "      <td>Apparel</td>\n",
       "      <td>Bottomwear</td>\n",
       "      <td>Jeans</td>\n",
       "      <td>Blue</td>\n",
       "      <td>Summer</td>\n",
       "      <td>2012.0</td>\n",
       "      <td>Casual</td>\n",
       "      <td>Peter England Men Party Blue Jeans</td>\n",
       "      <td>39386.jpg</td>\n",
       "    </tr>\n",
       "    <tr>\n",
       "      <th>2</th>\n",
       "      <td>59263</td>\n",
       "      <td>Women</td>\n",
       "      <td>Accessories</td>\n",
       "      <td>Watches</td>\n",
       "      <td>Watches</td>\n",
       "      <td>Silver</td>\n",
       "      <td>Winter</td>\n",
       "      <td>2016.0</td>\n",
       "      <td>Casual</td>\n",
       "      <td>Titan Women Silver Watch</td>\n",
       "      <td>59263.jpg</td>\n",
       "    </tr>\n",
       "    <tr>\n",
       "      <th>3</th>\n",
       "      <td>21379</td>\n",
       "      <td>Men</td>\n",
       "      <td>Apparel</td>\n",
       "      <td>Bottomwear</td>\n",
       "      <td>Track Pants</td>\n",
       "      <td>Black</td>\n",
       "      <td>Fall</td>\n",
       "      <td>2011.0</td>\n",
       "      <td>Casual</td>\n",
       "      <td>Manchester United Men Solid Black Track Pants</td>\n",
       "      <td>21379.jpg</td>\n",
       "    </tr>\n",
       "    <tr>\n",
       "      <th>4</th>\n",
       "      <td>53759</td>\n",
       "      <td>Men</td>\n",
       "      <td>Apparel</td>\n",
       "      <td>Topwear</td>\n",
       "      <td>Tshirts</td>\n",
       "      <td>Grey</td>\n",
       "      <td>Summer</td>\n",
       "      <td>2012.0</td>\n",
       "      <td>Casual</td>\n",
       "      <td>Puma Men Grey T-shirt</td>\n",
       "      <td>53759.jpg</td>\n",
       "    </tr>\n",
       "  </tbody>\n",
       "</table>\n",
       "</div>"
      ],
      "text/plain": [
       "      id gender masterCategory subCategory  articleType baseColour  season  \\\n",
       "0  15970    Men        Apparel     Topwear       Shirts  Navy Blue    Fall   \n",
       "1  39386    Men        Apparel  Bottomwear        Jeans       Blue  Summer   \n",
       "2  59263  Women    Accessories     Watches      Watches     Silver  Winter   \n",
       "3  21379    Men        Apparel  Bottomwear  Track Pants      Black    Fall   \n",
       "4  53759    Men        Apparel     Topwear      Tshirts       Grey  Summer   \n",
       "\n",
       "     year   usage                             productDisplayName      files  \n",
       "0  2011.0  Casual               Turtle Check Men Navy Blue Shirt  15970.jpg  \n",
       "1  2012.0  Casual             Peter England Men Party Blue Jeans  39386.jpg  \n",
       "2  2016.0  Casual                       Titan Women Silver Watch  59263.jpg  \n",
       "3  2011.0  Casual  Manchester United Men Solid Black Track Pants  21379.jpg  \n",
       "4  2012.0  Casual                          Puma Men Grey T-shirt  53759.jpg  "
      ]
     },
     "execution_count": 27,
     "metadata": {},
     "output_type": "execute_result"
    }
   ],
   "source": [
    "df.head()"
   ]
  },
  {
   "cell_type": "code",
   "execution_count": 20,
   "metadata": {},
   "outputs": [
    {
     "data": {
      "text/html": [
       "<div>\n",
       "<style scoped>\n",
       "    .dataframe tbody tr th:only-of-type {\n",
       "        vertical-align: middle;\n",
       "    }\n",
       "\n",
       "    .dataframe tbody tr th {\n",
       "        vertical-align: top;\n",
       "    }\n",
       "\n",
       "    .dataframe thead th {\n",
       "        text-align: right;\n",
       "    }\n",
       "</style>\n",
       "<table border=\"1\" class=\"dataframe\">\n",
       "  <thead>\n",
       "    <tr style=\"text-align: right;\">\n",
       "      <th></th>\n",
       "      <th>Unnamed: 0</th>\n",
       "      <th>id</th>\n",
       "      <th>year</th>\n",
       "    </tr>\n",
       "  </thead>\n",
       "  <tbody>\n",
       "    <tr>\n",
       "      <th>count</th>\n",
       "      <td>41131.000000</td>\n",
       "      <td>41131.000000</td>\n",
       "      <td>41130.000000</td>\n",
       "    </tr>\n",
       "    <tr>\n",
       "      <th>mean</th>\n",
       "      <td>22219.797282</td>\n",
       "      <td>28487.216309</td>\n",
       "      <td>2012.557987</td>\n",
       "    </tr>\n",
       "    <tr>\n",
       "      <th>std</th>\n",
       "      <td>12813.096571</td>\n",
       "      <td>16675.167347</td>\n",
       "      <td>1.923190</td>\n",
       "    </tr>\n",
       "    <tr>\n",
       "      <th>min</th>\n",
       "      <td>0.000000</td>\n",
       "      <td>1163.000000</td>\n",
       "      <td>2007.000000</td>\n",
       "    </tr>\n",
       "    <tr>\n",
       "      <th>25%</th>\n",
       "      <td>11107.500000</td>\n",
       "      <td>13877.500000</td>\n",
       "      <td>2011.000000</td>\n",
       "    </tr>\n",
       "    <tr>\n",
       "      <th>50%</th>\n",
       "      <td>22215.000000</td>\n",
       "      <td>27424.000000</td>\n",
       "      <td>2012.000000</td>\n",
       "    </tr>\n",
       "    <tr>\n",
       "      <th>75%</th>\n",
       "      <td>33314.500000</td>\n",
       "      <td>42670.500000</td>\n",
       "      <td>2013.000000</td>\n",
       "    </tr>\n",
       "    <tr>\n",
       "      <th>max</th>\n",
       "      <td>44423.000000</td>\n",
       "      <td>60000.000000</td>\n",
       "      <td>2018.000000</td>\n",
       "    </tr>\n",
       "  </tbody>\n",
       "</table>\n",
       "</div>"
      ],
      "text/plain": [
       "         Unnamed: 0            id          year\n",
       "count  41131.000000  41131.000000  41130.000000\n",
       "mean   22219.797282  28487.216309   2012.557987\n",
       "std    12813.096571  16675.167347      1.923190\n",
       "min        0.000000   1163.000000   2007.000000\n",
       "25%    11107.500000  13877.500000   2011.000000\n",
       "50%    22215.000000  27424.000000   2012.000000\n",
       "75%    33314.500000  42670.500000   2013.000000\n",
       "max    44423.000000  60000.000000   2018.000000"
      ]
     },
     "execution_count": 20,
     "metadata": {},
     "output_type": "execute_result"
    }
   ],
   "source": [
    "df.describe()"
   ]
  },
  {
   "cell_type": "code",
   "execution_count": 158,
   "metadata": {},
   "outputs": [],
   "source": [
    "df.drop('Unnamed: 0', inplace = True, axis = 1)"
   ]
  },
  {
   "cell_type": "code",
   "execution_count": 178,
   "metadata": {},
   "outputs": [],
   "source": [
    "df['files'] = df.apply(lambda temp: str(temp.id) + '.jpg', axis = 1)"
   ]
  },
  {
   "cell_type": "code",
   "execution_count": 180,
   "metadata": {},
   "outputs": [],
   "source": [
    "df.to_csv('Final.csv')"
   ]
  },
  {
   "cell_type": "code",
   "execution_count": 232,
   "metadata": {
    "scrolled": true
   },
   "outputs": [
    {
     "data": {
      "text/html": [
       "<div>\n",
       "<style scoped>\n",
       "    .dataframe tbody tr th:only-of-type {\n",
       "        vertical-align: middle;\n",
       "    }\n",
       "\n",
       "    .dataframe tbody tr th {\n",
       "        vertical-align: top;\n",
       "    }\n",
       "\n",
       "    .dataframe thead th {\n",
       "        text-align: right;\n",
       "    }\n",
       "</style>\n",
       "<table border=\"1\" class=\"dataframe\">\n",
       "  <thead>\n",
       "    <tr style=\"text-align: right;\">\n",
       "      <th></th>\n",
       "      <th>id</th>\n",
       "      <th>gender</th>\n",
       "      <th>masterCategory</th>\n",
       "      <th>subCategory</th>\n",
       "      <th>articleType</th>\n",
       "      <th>baseColour</th>\n",
       "      <th>season</th>\n",
       "      <th>year</th>\n",
       "      <th>usage</th>\n",
       "      <th>productDisplayName</th>\n",
       "      <th>files</th>\n",
       "    </tr>\n",
       "  </thead>\n",
       "  <tbody>\n",
       "    <tr>\n",
       "      <th>0</th>\n",
       "      <td>15970</td>\n",
       "      <td>Men</td>\n",
       "      <td>Apparel</td>\n",
       "      <td>Topwear</td>\n",
       "      <td>Shirts</td>\n",
       "      <td>Navy Blue</td>\n",
       "      <td>Fall</td>\n",
       "      <td>2011.0</td>\n",
       "      <td>Casual</td>\n",
       "      <td>Turtle Check Men Navy Blue Shirt</td>\n",
       "      <td>15970.jpg</td>\n",
       "    </tr>\n",
       "    <tr>\n",
       "      <th>1</th>\n",
       "      <td>39386</td>\n",
       "      <td>Men</td>\n",
       "      <td>Apparel</td>\n",
       "      <td>Bottomwear</td>\n",
       "      <td>Jeans</td>\n",
       "      <td>Blue</td>\n",
       "      <td>Summer</td>\n",
       "      <td>2012.0</td>\n",
       "      <td>Casual</td>\n",
       "      <td>Peter England Men Party Blue Jeans</td>\n",
       "      <td>39386.jpg</td>\n",
       "    </tr>\n",
       "    <tr>\n",
       "      <th>2</th>\n",
       "      <td>59263</td>\n",
       "      <td>Women</td>\n",
       "      <td>Accessories</td>\n",
       "      <td>Watches</td>\n",
       "      <td>Watches</td>\n",
       "      <td>Silver</td>\n",
       "      <td>Winter</td>\n",
       "      <td>2016.0</td>\n",
       "      <td>Casual</td>\n",
       "      <td>Titan Women Silver Watch</td>\n",
       "      <td>59263.jpg</td>\n",
       "    </tr>\n",
       "    <tr>\n",
       "      <th>3</th>\n",
       "      <td>21379</td>\n",
       "      <td>Men</td>\n",
       "      <td>Apparel</td>\n",
       "      <td>Bottomwear</td>\n",
       "      <td>Track Pants</td>\n",
       "      <td>Black</td>\n",
       "      <td>Fall</td>\n",
       "      <td>2011.0</td>\n",
       "      <td>Casual</td>\n",
       "      <td>Manchester United Men Solid Black Track Pants</td>\n",
       "      <td>21379.jpg</td>\n",
       "    </tr>\n",
       "    <tr>\n",
       "      <th>4</th>\n",
       "      <td>53759</td>\n",
       "      <td>Men</td>\n",
       "      <td>Apparel</td>\n",
       "      <td>Topwear</td>\n",
       "      <td>Tshirts</td>\n",
       "      <td>Grey</td>\n",
       "      <td>Summer</td>\n",
       "      <td>2012.0</td>\n",
       "      <td>Casual</td>\n",
       "      <td>Puma Men Grey T-shirt</td>\n",
       "      <td>53759.jpg</td>\n",
       "    </tr>\n",
       "  </tbody>\n",
       "</table>\n",
       "</div>"
      ],
      "text/plain": [
       "      id gender masterCategory subCategory  articleType baseColour  season  \\\n",
       "0  15970    Men        Apparel     Topwear       Shirts  Navy Blue    Fall   \n",
       "1  39386    Men        Apparel  Bottomwear        Jeans       Blue  Summer   \n",
       "2  59263  Women    Accessories     Watches      Watches     Silver  Winter   \n",
       "3  21379    Men        Apparel  Bottomwear  Track Pants      Black    Fall   \n",
       "4  53759    Men        Apparel     Topwear      Tshirts       Grey  Summer   \n",
       "\n",
       "     year   usage                             productDisplayName      files  \n",
       "0  2011.0  Casual               Turtle Check Men Navy Blue Shirt  15970.jpg  \n",
       "1  2012.0  Casual             Peter England Men Party Blue Jeans  39386.jpg  \n",
       "2  2016.0  Casual                       Titan Women Silver Watch  59263.jpg  \n",
       "3  2011.0  Casual  Manchester United Men Solid Black Track Pants  21379.jpg  \n",
       "4  2012.0  Casual                          Puma Men Grey T-shirt  53759.jpg  "
      ]
     },
     "execution_count": 232,
     "metadata": {},
     "output_type": "execute_result"
    }
   ],
   "source": [
    "df.head()"
   ]
  },
  {
   "cell_type": "markdown",
   "metadata": {},
   "source": [
    "# Using article type column and built a cnn network to predict article"
   ]
  },
  {
   "cell_type": "code",
   "execution_count": 3,
   "metadata": {
    "scrolled": true
   },
   "outputs": [],
   "source": [
    "X = df['files']\n",
    "y= df['articleType']"
   ]
  },
  {
   "cell_type": "code",
   "execution_count": 4,
   "metadata": {},
   "outputs": [],
   "source": [
    "X_train, X_test, y_train, y_test = train_test_split(X, y, test_size=0.33, random_state=42)"
   ]
  },
  {
   "cell_type": "code",
   "execution_count": 5,
   "metadata": {},
   "outputs": [],
   "source": [
    "train_datagen = ImageDataGenerator(rescale = 1./255,\n",
    "                            zoom_range = 0.3\n",
    "                            )"
   ]
  },
  {
   "cell_type": "code",
   "execution_count": 6,
   "metadata": {},
   "outputs": [],
   "source": [
    "test_datagen = ImageDataGenerator(rescale = 1./255)"
   ]
  },
  {
   "cell_type": "code",
   "execution_count": 7,
   "metadata": {},
   "outputs": [],
   "source": [
    "X = pd.concat([X_train, y_train], axis=1)"
   ]
  },
  {
   "cell_type": "code",
   "execution_count": 11,
   "metadata": {},
   "outputs": [],
   "source": [
    "test = pd.concat([X_test, y_test], axis=1)"
   ]
  },
  {
   "cell_type": "code",
   "execution_count": 12,
   "metadata": {},
   "outputs": [
    {
     "data": {
      "text/html": [
       "<div>\n",
       "<style scoped>\n",
       "    .dataframe tbody tr th:only-of-type {\n",
       "        vertical-align: middle;\n",
       "    }\n",
       "\n",
       "    .dataframe tbody tr th {\n",
       "        vertical-align: top;\n",
       "    }\n",
       "\n",
       "    .dataframe thead th {\n",
       "        text-align: right;\n",
       "    }\n",
       "</style>\n",
       "<table border=\"1\" class=\"dataframe\">\n",
       "  <thead>\n",
       "    <tr style=\"text-align: right;\">\n",
       "      <th></th>\n",
       "      <th>files</th>\n",
       "      <th>articleType</th>\n",
       "    </tr>\n",
       "  </thead>\n",
       "  <tbody>\n",
       "    <tr>\n",
       "      <td>0</td>\n",
       "      <td>21987.jpg</td>\n",
       "      <td>Handbags</td>\n",
       "    </tr>\n",
       "    <tr>\n",
       "      <td>1</td>\n",
       "      <td>6755.jpg</td>\n",
       "      <td>Sports Shoes</td>\n",
       "    </tr>\n",
       "    <tr>\n",
       "      <td>2</td>\n",
       "      <td>35684.jpg</td>\n",
       "      <td>Casual Shoes</td>\n",
       "    </tr>\n",
       "    <tr>\n",
       "      <td>3</td>\n",
       "      <td>19098.jpg</td>\n",
       "      <td>Kurtas</td>\n",
       "    </tr>\n",
       "    <tr>\n",
       "      <td>4</td>\n",
       "      <td>19431.jpg</td>\n",
       "      <td>Shorts</td>\n",
       "    </tr>\n",
       "  </tbody>\n",
       "</table>\n",
       "</div>"
      ],
      "text/plain": [
       "       files   articleType\n",
       "0  21987.jpg      Handbags\n",
       "1   6755.jpg  Sports Shoes\n",
       "2  35684.jpg  Casual Shoes\n",
       "3  19098.jpg        Kurtas\n",
       "4  19431.jpg        Shorts"
      ]
     },
     "execution_count": 12,
     "metadata": {},
     "output_type": "execute_result"
    }
   ],
   "source": [
    "X = X.reset_index()\n",
    "X.drop(['index'], axis = 1, inplace = True)\n",
    "X.head()"
   ]
  },
  {
   "cell_type": "code",
   "execution_count": 13,
   "metadata": {},
   "outputs": [
    {
     "data": {
      "text/html": [
       "<div>\n",
       "<style scoped>\n",
       "    .dataframe tbody tr th:only-of-type {\n",
       "        vertical-align: middle;\n",
       "    }\n",
       "\n",
       "    .dataframe tbody tr th {\n",
       "        vertical-align: top;\n",
       "    }\n",
       "\n",
       "    .dataframe thead th {\n",
       "        text-align: right;\n",
       "    }\n",
       "</style>\n",
       "<table border=\"1\" class=\"dataframe\">\n",
       "  <thead>\n",
       "    <tr style=\"text-align: right;\">\n",
       "      <th></th>\n",
       "      <th>files</th>\n",
       "      <th>articleType</th>\n",
       "    </tr>\n",
       "  </thead>\n",
       "  <tbody>\n",
       "    <tr>\n",
       "      <td>0</td>\n",
       "      <td>5409.jpg</td>\n",
       "      <td>Sports Shoes</td>\n",
       "    </tr>\n",
       "    <tr>\n",
       "      <td>1</td>\n",
       "      <td>58340.jpg</td>\n",
       "      <td>Flip Flops</td>\n",
       "    </tr>\n",
       "    <tr>\n",
       "      <td>2</td>\n",
       "      <td>58466.jpg</td>\n",
       "      <td>Belts</td>\n",
       "    </tr>\n",
       "    <tr>\n",
       "      <td>3</td>\n",
       "      <td>42068.jpg</td>\n",
       "      <td>Wallets</td>\n",
       "    </tr>\n",
       "    <tr>\n",
       "      <td>4</td>\n",
       "      <td>20398.jpg</td>\n",
       "      <td>Handbags</td>\n",
       "    </tr>\n",
       "  </tbody>\n",
       "</table>\n",
       "</div>"
      ],
      "text/plain": [
       "       files   articleType\n",
       "0   5409.jpg  Sports Shoes\n",
       "1  58340.jpg    Flip Flops\n",
       "2  58466.jpg         Belts\n",
       "3  42068.jpg       Wallets\n",
       "4  20398.jpg      Handbags"
      ]
     },
     "execution_count": 13,
     "metadata": {},
     "output_type": "execute_result"
    }
   ],
   "source": [
    "test = test.reset_index()\n",
    "test.drop(['index'], axis =1, inplace = True)\n",
    "test.head()"
   ]
  },
  {
   "cell_type": "code",
   "execution_count": 14,
   "metadata": {
    "scrolled": true
   },
   "outputs": [
    {
     "name": "stdout",
     "output_type": "stream",
     "text": [
      "Found 27555 validated image filenames belonging to 59 classes.\n"
     ]
    }
   ],
   "source": [
    "train_data = train_datagen.flow_from_dataframe(dataframe=X, directory='images/',x_col = 'files', y_col = 'articleType', target_size = (64,64))"
   ]
  },
  {
   "cell_type": "code",
   "execution_count": 15,
   "metadata": {},
   "outputs": [
    {
     "name": "stdout",
     "output_type": "stream",
     "text": [
      "Found 13572 validated image filenames belonging to 59 classes.\n"
     ]
    }
   ],
   "source": [
    "test_data = test_datagen.flow_from_dataframe(dataframe=test, directory='images/',x_col = 'files', y_col = 'articleType', target_size = (64,64))"
   ]
  },
  {
   "cell_type": "code",
   "execution_count": 32,
   "metadata": {},
   "outputs": [],
   "source": [
    "cnn = Sequential()"
   ]
  },
  {
   "cell_type": "code",
   "execution_count": 33,
   "metadata": {
    "scrolled": true
   },
   "outputs": [],
   "source": [
    "cnn.add(Conv2D(filters = 16, kernel_size = (3,3) ,strides = (1,1),padding = \"same\", input_shape = (64,64,3), activation = 'relu'))\n",
    "cnn.add(MaxPooling2D(pool_size = (2,2), strides = (2,2)))\n",
    "cnn.add(GaussianNoise(0.1))\n",
    "cnn.add(Conv2D(filters = 32, kernel_size = (3,3), strides = (1,1), padding=\"same\", input_shape = (32,32,16), activation = 'relu'))\n",
    "cnn.add(MaxPooling2D(pool_size = (2,2), strides = (2,2)))\n",
    "cnn.add(Flatten())\n",
    "cnn.add(Dense(120, activation = 'relu'))\n",
    "cnn.add(Dropout(0.5))\n",
    "cnn.add(Dense(59, activation = 'softmax'))\n"
   ]
  },
  {
   "cell_type": "code",
   "execution_count": 18,
   "metadata": {},
   "outputs": [],
   "source": [
    "cnn.compile(loss='binary_crossentropy', optimizer='rmsprop', metrics=['accuracy'])"
   ]
  },
  {
   "cell_type": "code",
   "execution_count": 95,
   "metadata": {
    "scrolled": true
   },
   "outputs": [
    {
     "name": "stdout",
     "output_type": "stream",
     "text": [
      "Model: \"sequential_2\"\n",
      "_________________________________________________________________\n",
      "Layer (type)                 Output Shape              Param #   \n",
      "=================================================================\n",
      "conv2d_3 (Conv2D)            (None, 64, 64, 16)        448       \n",
      "_________________________________________________________________\n",
      "max_pooling2d_3 (MaxPooling2 (None, 32, 32, 16)        0         \n",
      "_________________________________________________________________\n",
      "gaussian_noise_2 (GaussianNo (None, 32, 32, 16)        0         \n",
      "_________________________________________________________________\n",
      "conv2d_4 (Conv2D)            (None, 32, 32, 32)        4640      \n",
      "_________________________________________________________________\n",
      "max_pooling2d_4 (MaxPooling2 (None, 16, 16, 32)        0         \n",
      "_________________________________________________________________\n",
      "flatten_2 (Flatten)          (None, 8192)              0         \n",
      "_________________________________________________________________\n",
      "dense_3 (Dense)              (None, 120)               983160    \n",
      "_________________________________________________________________\n",
      "dropout_2 (Dropout)          (None, 120)               0         \n",
      "_________________________________________________________________\n",
      "dense_4 (Dense)              (None, 59)                7139      \n",
      "=================================================================\n",
      "Total params: 995,387\n",
      "Trainable params: 995,387\n",
      "Non-trainable params: 0\n",
      "_________________________________________________________________\n"
     ]
    }
   ],
   "source": [
    "cnn.summary()"
   ]
  },
  {
   "cell_type": "code",
   "execution_count": 21,
   "metadata": {
    "scrolled": true
   },
   "outputs": [
    {
     "name": "stdout",
     "output_type": "stream",
     "text": [
      "Epoch 1/9\n",
      "862/862 [==============================] - 296s 344ms/step - loss: 0.0563 - accuracy: 0.9845 - val_loss: 0.0262 - val_accuracy: 0.9882\n",
      "Epoch 2/9\n",
      "862/862 [==============================] - 289s 335ms/step - loss: 0.0426 - accuracy: 0.9868 - val_loss: 0.0430 - val_accuracy: 0.9900\n",
      "Epoch 3/9\n",
      "862/862 [==============================] - 295s 343ms/step - loss: 0.0384 - accuracy: 0.9879 - val_loss: 0.0239 - val_accuracy: 0.9907\n",
      "Epoch 4/9\n",
      "862/862 [==============================] - 290s 337ms/step - loss: 0.0359 - accuracy: 0.9884 - val_loss: 0.0277 - val_accuracy: 0.9910\n",
      "Epoch 5/9\n",
      "862/862 [==============================] - 293s 340ms/step - loss: 0.0342 - accuracy: 0.9890 - val_loss: 0.0229 - val_accuracy: 0.9908\n",
      "Epoch 6/9\n",
      "862/862 [==============================] - 289s 336ms/step - loss: 0.0334 - accuracy: 0.9892 - val_loss: 0.0268 - val_accuracy: 0.9914\n",
      "Epoch 7/9\n",
      "862/862 [==============================] - 284s 330ms/step - loss: 0.0330 - accuracy: 0.9893 - val_loss: 0.0329 - val_accuracy: 0.9914\n",
      "Epoch 8/9\n",
      "862/862 [==============================] - 288s 335ms/step - loss: 0.0329 - accuracy: 0.9894 - val_loss: 0.0149 - val_accuracy: 0.9916\n",
      "Epoch 9/9\n",
      "862/862 [==============================] - 294s 341ms/step - loss: 0.0329 - accuracy: 0.9895 - val_loss: 0.0149 - val_accuracy: 0.9919\n",
      "Processing time: 43.684500217437744\n"
     ]
    }
   ],
   "source": [
    "start = time.time()\n",
    "cnn.fit_generator(\n",
    "    train_data,\n",
    "    epochs=9,\n",
    "    validation_data=test_data,\n",
    ")\n",
    "end = time.time()\n",
    "print('Processing time:',(end - start)/60)"
   ]
  },
  {
   "cell_type": "code",
   "execution_count": 23,
   "metadata": {},
   "outputs": [],
   "source": [
    "cnn.save('keras_model.h5')"
   ]
  },
  {
   "cell_type": "code",
   "execution_count": 22,
   "metadata": {
    "scrolled": true
   },
   "outputs": [
    {
     "name": "stdout",
     "output_type": "stream",
     "text": [
      "Model: \"sequential_1\"\n",
      "_________________________________________________________________\n",
      "Layer (type)                 Output Shape              Param #   \n",
      "=================================================================\n",
      "conv2d_1 (Conv2D)            (None, 64, 64, 16)        448       \n",
      "_________________________________________________________________\n",
      "max_pooling2d_1 (MaxPooling2 (None, 32, 32, 16)        0         \n",
      "_________________________________________________________________\n",
      "gaussian_noise_1 (GaussianNo (None, 32, 32, 16)        0         \n",
      "_________________________________________________________________\n",
      "conv2d_2 (Conv2D)            (None, 32, 32, 32)        4640      \n",
      "_________________________________________________________________\n",
      "max_pooling2d_2 (MaxPooling2 (None, 16, 16, 32)        0         \n",
      "_________________________________________________________________\n",
      "flatten_1 (Flatten)          (None, 8192)              0         \n",
      "_________________________________________________________________\n",
      "dense_1 (Dense)              (None, 120)               983160    \n",
      "_________________________________________________________________\n",
      "dropout_1 (Dropout)          (None, 120)               0         \n",
      "_________________________________________________________________\n",
      "dense_2 (Dense)              (None, 59)                7139      \n",
      "=================================================================\n",
      "Total params: 995,387\n",
      "Trainable params: 995,387\n",
      "Non-trainable params: 0\n",
      "_________________________________________________________________\n"
     ]
    }
   ],
   "source": [
    "model = load_model('keras_model.h5')\n",
    "model.summary()"
   ]
  },
  {
   "cell_type": "markdown",
   "metadata": {},
   "source": [
    "# Prediction using predict_generator function. "
   ]
  },
  {
   "cell_type": "code",
   "execution_count": 21,
   "metadata": {},
   "outputs": [],
   "source": [
    "true_classes = test_data.classes\n",
    "class_labels = list(test_data.class_indices.keys())   "
   ]
  },
  {
   "cell_type": "code",
   "execution_count": 22,
   "metadata": {},
   "outputs": [],
   "source": [
    "test_steps_per_epoch = np.math.ceil(test_data.samples / test_data.batch_size)\n"
   ]
  },
  {
   "cell_type": "code",
   "execution_count": 26,
   "metadata": {},
   "outputs": [],
   "source": [
    "predictions = model.predict_generator(test_data, steps=test_steps_per_epoch)"
   ]
  },
  {
   "cell_type": "code",
   "execution_count": 27,
   "metadata": {},
   "outputs": [],
   "source": [
    "predicted_classes = np.argmax(predictions, axis=1)"
   ]
  },
  {
   "cell_type": "code",
   "execution_count": 28,
   "metadata": {},
   "outputs": [
    {
     "name": "stdout",
     "output_type": "stream",
     "text": [
      "[[ 0  1  0 ...  0  1  2]\n",
      " [ 1  8  0 ...  0  3 11]\n",
      " [ 0  0  0 ...  0  0  1]\n",
      " ...\n",
      " [ 0  3  0 ...  0  2  5]\n",
      " [ 1  8  0 ...  0 12 16]\n",
      " [ 3 13  0 ...  0 18 54]]\n"
     ]
    }
   ],
   "source": [
    "confusion = confusion_matrix(true_classes, predicted_classes)\n",
    "print(confusion)"
   ]
  },
  {
   "cell_type": "code",
   "execution_count": 30,
   "metadata": {},
   "outputs": [
    {
     "data": {
      "text/plain": [
       "0.0623342175066313"
      ]
     },
     "execution_count": 30,
     "metadata": {},
     "output_type": "execute_result"
    }
   ],
   "source": [
    "accuracy_score(true_classes, predicted_classes)"
   ]
  },
  {
   "cell_type": "markdown",
   "metadata": {},
   "source": [
    "# Evaluating the above model"
   ]
  },
  {
   "cell_type": "code",
   "execution_count": 23,
   "metadata": {},
   "outputs": [],
   "source": [
    "model_evaluate=model.evaluate_generator(generator=test_data)"
   ]
  },
  {
   "cell_type": "code",
   "execution_count": 24,
   "metadata": {},
   "outputs": [
    {
     "name": "stdout",
     "output_type": "stream",
     "text": [
      "Test loss: 0.016110751777887344\n",
      "Test accuracy: 0.9918904304504395\n"
     ]
    }
   ],
   "source": [
    "print('Test loss:', model_evaluate[0])\n",
    "print('Test accuracy:', model_evaluate[1])"
   ]
  },
  {
   "cell_type": "markdown",
   "metadata": {},
   "source": [
    "# Feauture extraction from dropout_1 layer. The layer above softmax"
   ]
  },
  {
   "cell_type": "code",
   "execution_count": 26,
   "metadata": {},
   "outputs": [
    {
     "name": "stdout",
     "output_type": "stream",
     "text": [
      "Model: \"model_1\"\n",
      "_________________________________________________________________\n",
      "Layer (type)                 Output Shape              Param #   \n",
      "=================================================================\n",
      "conv2d_1_input (InputLayer)  (None, 64, 64, 3)         0         \n",
      "_________________________________________________________________\n",
      "conv2d_1 (Conv2D)            (None, 64, 64, 16)        448       \n",
      "_________________________________________________________________\n",
      "max_pooling2d_1 (MaxPooling2 (None, 32, 32, 16)        0         \n",
      "_________________________________________________________________\n",
      "gaussian_noise_1 (GaussianNo (None, 32, 32, 16)        0         \n",
      "_________________________________________________________________\n",
      "conv2d_2 (Conv2D)            (None, 32, 32, 32)        4640      \n",
      "_________________________________________________________________\n",
      "max_pooling2d_2 (MaxPooling2 (None, 16, 16, 32)        0         \n",
      "_________________________________________________________________\n",
      "flatten_1 (Flatten)          (None, 8192)              0         \n",
      "_________________________________________________________________\n",
      "dense_1 (Dense)              (None, 120)               983160    \n",
      "_________________________________________________________________\n",
      "dropout_1 (Dropout)          (None, 120)               0         \n",
      "=================================================================\n",
      "Total params: 988,248\n",
      "Trainable params: 988,248\n",
      "Non-trainable params: 0\n",
      "_________________________________________________________________\n"
     ]
    }
   ],
   "source": [
    "intermediate_layer_model = Model(inputs=model.input,outputs=model.get_layer('dropout_1').output)\n",
    "intermediate_layer_model.summary()"
   ]
  },
  {
   "cell_type": "code",
   "execution_count": 27,
   "metadata": {},
   "outputs": [],
   "source": [
    "feauture_engg_data = intermediate_layer_model.predict(train_data)\n",
    "feauture_engg_data = pd.DataFrame(feauture_engg_data)"
   ]
  },
  {
   "cell_type": "code",
   "execution_count": 28,
   "metadata": {},
   "outputs": [],
   "source": [
    "feauture_test = intermediate_layer_model.predict(test_data)\n",
    "feauture_test = pd.DataFrame(feauture_test)"
   ]
  },
  {
   "cell_type": "code",
   "execution_count": 19,
   "metadata": {},
   "outputs": [],
   "source": [
    "feauture_engg_data.to_csv('feauture_engg_data_inital.csv')\n",
    "feauture_test.to_csv('feauture_test_initial.csv')"
   ]
  },
  {
   "cell_type": "code",
   "execution_count": null,
   "metadata": {},
   "outputs": [],
   "source": []
  },
  {
   "cell_type": "code",
   "execution_count": null,
   "metadata": {},
   "outputs": [],
   "source": []
  },
  {
   "cell_type": "code",
   "execution_count": 17,
   "metadata": {},
   "outputs": [],
   "source": [
    "feauture_engg_data = pd.read_csv('feauture_engg_data_inital.csv')\n",
    "feauture_test = pd.read_csv('feauture_test_initial.csv')"
   ]
  },
  {
   "cell_type": "code",
   "execution_count": 18,
   "metadata": {},
   "outputs": [],
   "source": [
    "feauture_engg_data = pd.concat([X, feauture_engg_data], axis = 1)\n",
    "feauture_test = pd.concat([test, feauture_test], axis = 1)"
   ]
  },
  {
   "cell_type": "markdown",
   "metadata": {},
   "source": [
    "# Trying another model to predict article type"
   ]
  },
  {
   "cell_type": "code",
   "execution_count": 44,
   "metadata": {},
   "outputs": [],
   "source": [
    "temp = Sequential()"
   ]
  },
  {
   "cell_type": "code",
   "execution_count": 45,
   "metadata": {},
   "outputs": [],
   "source": [
    "temp.add(Conv2D(filters = 32, kernel_size = (3,3) ,strides = (1,1),padding = \"same\", input_shape = (64,64,3), activation = 'relu'))\n",
    "temp.add(LeakyReLU(alpha=0.05))\n",
    "temp.add(MaxPooling2D(pool_size = (2,2), strides = (2,2)))\n",
    "temp.add(Dropout(0.2))\n",
    "temp.add(Conv2D(filters = 32, kernel_size = (3,3), strides = (1,1), padding=\"same\", input_shape = (32,32,16), activation = 'relu'))\n",
    "temp.add(LeakyReLU(alpha=0.05))\n",
    "temp.add(MaxPooling2D(pool_size = (2,2), strides = (2,2)))\n",
    "temp.add(Dropout(0.2))\n",
    "temp.add(Flatten())\n",
    "temp.add(Dense(120, activation = 'relu'))\n",
    "temp.add(LeakyReLU(alpha=0.05))\n",
    "temp.add(Dropout(0.5))\n",
    "temp.add(Dense(59, activation = 'softmax'))\n"
   ]
  },
  {
   "cell_type": "code",
   "execution_count": 46,
   "metadata": {},
   "outputs": [
    {
     "name": "stdout",
     "output_type": "stream",
     "text": [
      "Model: \"sequential_6\"\n",
      "_________________________________________________________________\n",
      "Layer (type)                 Output Shape              Param #   \n",
      "=================================================================\n",
      "conv2d_10 (Conv2D)           (None, 64, 64, 32)        896       \n",
      "_________________________________________________________________\n",
      "leaky_re_lu_1 (LeakyReLU)    (None, 64, 64, 32)        0         \n",
      "_________________________________________________________________\n",
      "max_pooling2d_7 (MaxPooling2 (None, 32, 32, 32)        0         \n",
      "_________________________________________________________________\n",
      "dropout_4 (Dropout)          (None, 32, 32, 32)        0         \n",
      "_________________________________________________________________\n",
      "conv2d_11 (Conv2D)           (None, 32, 32, 32)        9248      \n",
      "_________________________________________________________________\n",
      "leaky_re_lu_2 (LeakyReLU)    (None, 32, 32, 32)        0         \n",
      "_________________________________________________________________\n",
      "max_pooling2d_8 (MaxPooling2 (None, 16, 16, 32)        0         \n",
      "_________________________________________________________________\n",
      "dropout_5 (Dropout)          (None, 16, 16, 32)        0         \n",
      "_________________________________________________________________\n",
      "flatten_4 (Flatten)          (None, 8192)              0         \n",
      "_________________________________________________________________\n",
      "dense_7 (Dense)              (None, 120)               983160    \n",
      "_________________________________________________________________\n",
      "leaky_re_lu_3 (LeakyReLU)    (None, 120)               0         \n",
      "_________________________________________________________________\n",
      "dropout_6 (Dropout)          (None, 120)               0         \n",
      "_________________________________________________________________\n",
      "dense_8 (Dense)              (None, 59)                7139      \n",
      "=================================================================\n",
      "Total params: 1,000,443\n",
      "Trainable params: 1,000,443\n",
      "Non-trainable params: 0\n",
      "_________________________________________________________________\n"
     ]
    }
   ],
   "source": [
    "temp.summary()"
   ]
  },
  {
   "cell_type": "code",
   "execution_count": 48,
   "metadata": {},
   "outputs": [],
   "source": [
    "temp.compile(loss='binary_crossentropy', optimizer='rmsprop', metrics=['accuracy'])"
   ]
  },
  {
   "cell_type": "code",
   "execution_count": 49,
   "metadata": {},
   "outputs": [
    {
     "name": "stdout",
     "output_type": "stream",
     "text": [
      "Epoch 1/9\n",
      "862/862 [==============================] - 854s 991ms/step - loss: 0.0567 - accuracy: 0.9846 - val_loss: 0.0122 - val_accuracy: 0.9890\n",
      "Epoch 2/9\n",
      "862/862 [==============================] - 393s 456ms/step - loss: 0.0404 - accuracy: 0.9874 - val_loss: 0.0359 - val_accuracy: 0.9908\n",
      "Epoch 3/9\n",
      "862/862 [==============================] - 368s 427ms/step - loss: 0.0360 - accuracy: 0.9886 - val_loss: 0.0145 - val_accuracy: 0.9910\n",
      "Epoch 4/9\n",
      "862/862 [==============================] - 358s 415ms/step - loss: 0.0338 - accuracy: 0.9892 - val_loss: 0.0116 - val_accuracy: 0.9918\n",
      "Epoch 5/9\n",
      "862/862 [==============================] - 362s 420ms/step - loss: 0.0330 - accuracy: 0.9895 - val_loss: 0.0231 - val_accuracy: 0.9916\n",
      "Epoch 6/9\n",
      "862/862 [==============================] - 368s 427ms/step - loss: 0.0325 - accuracy: 0.9896 - val_loss: 0.0235 - val_accuracy: 0.9919\n",
      "Epoch 7/9\n",
      "862/862 [==============================] - 366s 424ms/step - loss: 0.0324 - accuracy: 0.9897 - val_loss: 0.0234 - val_accuracy: 0.9920\n",
      "Epoch 8/9\n",
      "862/862 [==============================] - 365s 424ms/step - loss: 0.0325 - accuracy: 0.9897 - val_loss: 0.0182 - val_accuracy: 0.9913\n",
      "Epoch 9/9\n",
      "862/862 [==============================] - 368s 427ms/step - loss: 0.0326 - accuracy: 0.9897 - val_loss: 0.0021 - val_accuracy: 0.9921\n",
      "Processing time: 63.40020889043808\n"
     ]
    }
   ],
   "source": [
    "start = time.time()\n",
    "temp.fit_generator(\n",
    "    train_data,\n",
    "    epochs=9,\n",
    "    validation_data=test_data,\n",
    ")\n",
    "end = time.time()\n",
    "print('Processing time:',(end - start)/60)"
   ]
  },
  {
   "cell_type": "code",
   "execution_count": 50,
   "metadata": {},
   "outputs": [],
   "source": [
    "predictions = temp.predict_generator(test_data, steps=test_steps_per_epoch)"
   ]
  },
  {
   "cell_type": "code",
   "execution_count": 51,
   "metadata": {},
   "outputs": [],
   "source": [
    "predicted_classes = np.argmax(predictions, axis=1)"
   ]
  },
  {
   "cell_type": "code",
   "execution_count": 52,
   "metadata": {},
   "outputs": [
    {
     "data": {
      "text/plain": [
       "0.06395520188623637"
      ]
     },
     "execution_count": 52,
     "metadata": {},
     "output_type": "execute_result"
    }
   ],
   "source": [
    "accuracy_score(true_classes, predicted_classes)"
   ]
  },
  {
   "cell_type": "code",
   "execution_count": null,
   "metadata": {},
   "outputs": [],
   "source": []
  }
 ],
 "metadata": {
  "kernelspec": {
   "display_name": "Python 3",
   "language": "python",
   "name": "python3"
  },
  "language_info": {
   "codemirror_mode": {
    "name": "ipython",
    "version": 3
   },
   "file_extension": ".py",
   "mimetype": "text/x-python",
   "name": "python",
   "nbconvert_exporter": "python",
   "pygments_lexer": "ipython3",
   "version": "3.7.4"
  }
 },
 "nbformat": 4,
 "nbformat_minor": 2
}
