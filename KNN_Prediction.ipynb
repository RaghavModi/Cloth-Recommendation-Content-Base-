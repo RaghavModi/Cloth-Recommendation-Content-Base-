{
 "cells": [
  {
   "cell_type": "markdown",
   "metadata": {},
   "source": [
    "# Below I have used KNN to predict product based on style, season, usage and article type"
   ]
  },
  {
   "cell_type": "code",
   "execution_count": 95,
   "metadata": {},
   "outputs": [],
   "source": [
    "import pandas as pd\n",
    "import numpy as np\n",
    "from sklearn.neighbors import KNeighborsClassifier\n",
    "from sklearn.neighbors import NearestNeighbors\n",
    "import matplotlib.pyplot as plt\n",
    "import matplotlib.image as img\n",
    "import os"
   ]
  },
  {
   "cell_type": "markdown",
   "metadata": {},
   "source": [
    "# For Checking various value of K for each model"
   ]
  },
  {
   "cell_type": "markdown",
   "metadata": {},
   "source": [
    "# Gender Model"
   ]
  },
  {
   "cell_type": "code",
   "execution_count": 2,
   "metadata": {
    "scrolled": true
   },
   "outputs": [
    {
     "name": "stdout",
     "output_type": "stream",
     "text": [
      "0.4320660182729148\n",
      "0.4492337164750958\n",
      "0.4521072796934866\n",
      "0.4806955496610669\n",
      "0.4753168287651046\n",
      "0.4868110816386678\n",
      "0.4810639552018862\n",
      "0.48791629826112587\n",
      "0.4873268493958149\n",
      "0.4902740937223696\n",
      "0.4876215738284704\n",
      "0.4908635425876805\n",
      "0.4887267904509284\n",
      "0.4924108458591217\n",
      "0.48983200707338637\n",
      "0.4964633068081344\n",
      "0.4953580901856764\n",
      "0.4995579133510168\n",
      "0.4972001178897731\n",
      "0.500589448865311\n",
      "0.49837901562039494\n",
      "0.5025788387857353\n",
      "0.5008104921898026\n",
      "0.5002947244326554\n",
      "0.49808429118773945\n",
      "0.5027262010020631\n",
      "0.5012525788387857\n",
      "0.5030946065428824\n",
      "0.5050839964633068\n",
      "0.5060418508694371\n",
      "0.5044945475979958\n",
      "0.5031682876510463\n",
      "0.5064839375184202\n",
      "0.5055997642204538\n",
      "0.5053050397877984\n",
      "0.5076628352490421\n",
      "0.5064839375184202\n",
      "0.5083996463306808\n",
      "0.5093575007368111\n",
      "0.5074417919245505\n",
      "0.5081049218980254\n",
      "0.5070733863837312\n",
      "0.5073681108163867\n",
      "0.5089154140878279\n",
      "0.5065576186265841\n",
      "0.5055997642204538\n",
      "0.5074417919245505\n",
      "0.5078101974653699\n",
      "0.5080312407898615\n",
      "0.5106837606837606\n",
      "0.5081786030061892\n",
      "0.5100206307102859\n",
      "0.5094311818449749\n",
      "0.5099469496021221\n",
      "0.5123047450633658\n",
      "0.5095785440613027\n",
      "0.5103890362511052\n",
      "0.5101679929266136\n",
      "0.5103153551429414\n",
      "0.5091364574123195\n",
      "0.5093575007368111\n",
      "0.5070733863837312\n",
      "0.5097259062776304\n",
      "0.5079575596816976\n",
      "0.5069260241674035\n",
      "0.5073681108163867\n",
      "0.507736516357206\n",
      "0.5109048040082523\n",
      "0.5085470085470085\n",
      "0.5085470085470085\n",
      "0.5100943118184498\n",
      "0.5096522251694665\n",
      "0.5085470085470085\n",
      "0.5075154730327144\n",
      "0.5104627173592691\n",
      "0.5076628352490421\n",
      "0.5086943707633362\n",
      "0.5073681108163867\n",
      "0.5069997052755674\n",
      "0.5057471264367817\n",
      "0.5085470085470085\n",
      "0.507736516357206\n",
      "0.5089154140878279\n",
      "0.5075891541408782\n",
      "0.5081786030061892\n",
      "0.5075154730327144\n",
      "0.5087680518715001\n",
      "0.5057471264367817\n",
      "0.5064839375184202\n",
      "0.5074417919245505\n",
      "0.5075154730327144\n",
      "0.5083996463306808\n",
      "0.5089154140878279\n",
      "0.5095048629531388\n",
      "0.5083259652225169\n",
      "0.5065576186265841\n",
      "0.5052313586796345\n",
      "0.5051576775714707\n",
      "0.5052313586796345\n"
     ]
    }
   ],
   "source": [
    "train_gender = pd.read_csv('feauture_engg_data_gender.csv')\n",
    "test_gender = pd.read_csv('feauture_test_gender.csv')\n",
    "train_gender.drop(['Unnamed: 0'], axis = 1, inplace = True)\n",
    "test_gender.drop(['Unnamed: 0'], axis = 1, inplace = True)\n",
    "train_gender.head()\n",
    "X_gender_train = train_gender.drop(['files', 'gender'], axis = 1)\n",
    "y_gender_train = train_gender['gender']\n",
    "X_gender_test = test_gender.drop(['files', 'gender'], axis = 1)\n",
    "y_gender_test = test_gender['gender']\n",
    "gender_lix = []\n",
    "gender_liy = []\n",
    "gender_index=0\n",
    "gender_acc=0\n",
    "for k in range(1, 100):\n",
    "    gender_neigh = KNeighborsClassifier(n_neighbors=k)\n",
    "    gender_neigh.fit(X_gender_train, y_gender_train)\n",
    "    gender_liy.append(gender_neigh.score(X_gender_test, y_gender_test))\n",
    "    print(gender_neigh.score(X_gender_test, y_gender_test))\n",
    "    if gender_liy[k-1]>gender_acc:\n",
    "        gender_acc=gender_liy[k-1]\n",
    "        gender_index=k-1\n",
    "    gender_lix.append(k)\n",
    "    "
   ]
  },
  {
   "cell_type": "markdown",
   "metadata": {},
   "source": [
    "# Article Type Model"
   ]
  },
  {
   "cell_type": "code",
   "execution_count": 3,
   "metadata": {
    "scrolled": true
   },
   "outputs": [
    {
     "name": "stdout",
     "output_type": "stream",
     "text": [
      "0.06019746536987916\n",
      "0.04332449160035367\n",
      "0.04553492484526967\n",
      "0.054671382257589156\n",
      "0.06351311523725317\n",
      "0.07147067491895077\n",
      "0.07861774241084586\n",
      "0.08060713233127026\n",
      "0.08480695549661067\n",
      "0.08731211317418214\n",
      "0.08856469201296788\n",
      "0.09313292071912761\n",
      "0.09578544061302682\n",
      "0.09865900383141762\n",
      "0.10175361037430003\n",
      "0.10543766578249338\n",
      "0.10867963454170351\n",
      "0.11118479221927498\n",
      "0.11501620984379606\n",
      "0.11553197760094312\n",
      "0.1169319186560566\n",
      "0.11906867079280872\n",
      "0.11766872973769525\n",
      "0.11899498968464485\n",
      "0.12024756852343059\n",
      "0.12120542292956087\n",
      "0.12216327733569113\n",
      "0.12430002947244327\n",
      "0.12857353374594754\n",
      "0.12989979369289714\n",
      "0.1317418213969938\n",
      "0.13336280577659887\n",
      "0.1342469790745653\n",
      "0.13675213675213677\n",
      "0.1359416445623342\n",
      "0.1359416445623342\n",
      "0.1359416445623342\n",
      "0.13837312113174183\n",
      "0.14058355437665782\n",
      "0.1419834954317713\n",
      "0.14205717653993516\n",
      "0.14345711759504862\n",
      "0.14434129089301503\n",
      "0.14493073975832596\n",
      "0.1457412319481285\n",
      "0.14669908635425877\n",
      "0.14647804302976716\n",
      "0.14714117300324198\n",
      "0.14868847627468318\n",
      "0.14942528735632185\n",
      "0.14935160624815796\n",
      "0.1494989684644857\n",
      "0.15001473622163278\n",
      "0.14957264957264957\n",
      "0.15111995284409077\n",
      "0.1521514883583849\n",
      "0.15288829944002358\n",
      "0.1534777483053345\n",
      "0.15340406719717065\n",
      "0.15384615384615385\n",
      "0.15399351606248157\n",
      "0.1535514294134984\n",
      "0.15458296492779253\n",
      "0.15406719717064546\n",
      "0.15539345711759506\n",
      "0.15613026819923373\n",
      "0.15605658709106984\n",
      "0.15686707928087237\n",
      "0.15686707928087237\n",
      "0.15701444149720012\n",
      "0.15716180371352786\n",
      "0.15834070144414972\n",
      "0.15863542587680518\n",
      "0.15878278809313293\n",
      "0.15848806366047746\n",
      "0.15767757147067493\n",
      "0.15900383141762453\n",
      "0.15929855585028\n",
      "0.15966696139109932\n",
      "0.15981432360742706\n",
      "0.16010904804008252\n",
      "0.16003536693191867\n",
      "0.1608458591217212\n",
      "0.16114058355437666\n",
      "0.16136162687886826\n",
      "0.16143530798703212\n",
      "0.16180371352785147\n",
      "0.1623931623931624\n",
      "0.16276156793398172\n",
      "0.16283524904214558\n",
      "0.16290893015030947\n",
      "0.16320365458296493\n",
      "0.16312997347480107\n",
      "0.1634983790156204\n",
      "0.16342469790745653\n",
      "0.1639404656646036\n",
      "0.16438255231358678\n",
      "0.16489832007073385\n",
      "0.16519304450338934\n"
     ]
    }
   ],
   "source": [
    "train_initial = pd.read_csv('feauture_engg_data_initial.csv')\n",
    "test_initial = pd.read_csv('feauture_test_initial.csv')\n",
    "train_initial.drop(['Unnamed: 0.1'], axis = 1, inplace = True)\n",
    "test_initial.drop(['Unnamed: 0.1'], axis = 1, inplace = True)\n",
    "train_initial.drop(['Unnamed: 0'], axis = 1, inplace = True)\n",
    "test_initial.drop(['Unnamed: 0'], axis = 1, inplace = True)\n",
    "train_initial.head()\n",
    "X_initial_train = train_initial.drop(['files', 'articleType'], axis = 1)\n",
    "y_initial_train = train_initial['articleType']\n",
    "X_initial_test = test_initial.drop(['files', 'articleType'], axis = 1)\n",
    "y_initial_test = test_initial['articleType']\n",
    "initial_lix = []\n",
    "initial_liy = []\n",
    "initial_index=0\n",
    "initial_acc=0\n",
    "for k in range(1, 100):\n",
    "    initial_neigh = KNeighborsClassifier(n_neighbors=k)\n",
    "    initial_neigh.fit(X_initial_train, y_initial_train)\n",
    "    initial_liy.append(initial_neigh.score(X_initial_test, y_initial_test))\n",
    "    print(initial_neigh.score(X_initial_test, y_initial_test))\n",
    "    if initial_liy[k-1]>initial_acc:\n",
    "        initial_acc=initial_liy[k-1]\n",
    "        initial_index=k-1\n",
    "    initial_lix.append(k)\n",
    "    "
   ]
  },
  {
   "cell_type": "markdown",
   "metadata": {},
   "source": [
    "# Season Model"
   ]
  },
  {
   "cell_type": "code",
   "execution_count": 8,
   "metadata": {
    "scrolled": true
   },
   "outputs": [
    {
     "name": "stdout",
     "output_type": "stream",
     "text": [
      "0.3735632183908046\n",
      "0.38012083701738875\n",
      "0.3905835543766578\n",
      "0.40929855585027997\n",
      "0.41762452107279696\n",
      "0.41814028882994403\n",
      "0.42668729737695255\n",
      "0.4347922192749779\n",
      "0.4345711759504863\n",
      "0.4426024167403478\n",
      "0.44466548776893605\n",
      "0.4501915708812261\n",
      "0.45240200412614207\n",
      "0.4558650162098438\n",
      "0.45977011494252873\n",
      "0.46286472148541113\n",
      "0.461833185971117\n",
      "0.46441202475685234\n",
      "0.46964338343648687\n",
      "0.4711906867079281\n",
      "0.47236958443855\n",
      "0.47546419098143233\n",
      "0.4775272620100206\n",
      "0.47708517536103745\n",
      "0.47988505747126436\n",
      "0.4833480695549661\n",
      "0.48673740053050396\n",
      "0.48798997936928973\n",
      "0.48857942823460065\n",
      "0.4885057471264368\n",
      "0.488358384910109\n",
      "0.48946360153256707\n",
      "0.4916003536693192\n",
      "0.49432655467138226\n",
      "0.4948423224285293\n",
      "0.49616858237547895\n",
      "0.4972001178897731\n",
      "0.4981579722959033\n",
      "0.49837901562039494\n",
      "0.5001473622163277\n",
      "0.5009578544061303\n",
      "0.5026525198938993\n",
      "0.5030209254347185\n",
      "0.5047155909224875\n",
      "0.5037577365163572\n",
      "0.503905098732685\n",
      "0.5047155909224875\n",
      "0.5049366342469791\n",
      "0.5069997052755674\n",
      "0.5058944886531094\n",
      "0.5058208075449455\n",
      "0.5064839375184202\n",
      "0.5070733863837312\n",
      "0.5069260241674035\n",
      "0.5078838785735338\n",
      "0.5084733274388447\n",
      "0.5090627763041556\n",
      "0.5086943707633362\n",
      "0.5094311818449749\n",
      "0.5096522251694665\n",
      "0.5092101385204834\n",
      "0.5093575007368111\n",
      "0.5093575007368111\n",
      "0.5095048629531388\n",
      "0.5102416740347775\n",
      "0.5104627173592691\n",
      "0.5097995873857942\n",
      "0.5101679929266136\n",
      "0.5111995284409078\n",
      "0.5111995284409078\n",
      "0.5114205717653993\n",
      "0.5114942528735632\n",
      "0.5113468906572355\n",
      "0.5123784261715296\n",
      "0.5125994694960212\n",
      "0.5124521072796935\n",
      "0.5125994694960212\n",
      "0.5126731506041851\n",
      "0.5130415561450045\n",
      "0.5127468317123489\n",
      "0.5133362805776599\n",
      "0.5131152372531683\n",
      "0.513262599469496\n",
      "0.5131152372531683\n",
      "0.5136310050103153\n",
      "0.5135573239021515\n",
      "0.5139257294429708\n",
      "0.5136310050103153\n",
      "0.5134836427939876\n",
      "0.5134099616858238\n",
      "0.5131889183613322\n",
      "0.5135573239021515\n",
      "0.513778367226643\n",
      "0.5131889183613322\n",
      "0.5134836427939876\n",
      "0.513778367226643\n",
      "0.5137046861184792\n",
      "0.5139994105511347\n",
      "0.5141467727674625\n"
     ]
    }
   ],
   "source": [
    "train_season = pd.read_csv('feauture_engg_data_season.csv')\n",
    "test_season = pd.read_csv('feauture_test_season.csv')\n",
    "train_season.drop(['Unnamed: 0'], axis = 1, inplace = True)\n",
    "test_season.drop(['Unnamed: 0'], axis = 1, inplace = True)\n",
    "train_season.drop(['Unnamed: 0.1'], axis = 1, inplace = True)\n",
    "test_season.drop(['Unnamed: 0.1'], axis = 1, inplace = True)\n",
    "train_season.head()\n",
    "X_season_train = train_season.drop(['files', 'season'], axis = 1)\n",
    "y_season_train = train_season['season']\n",
    "X_season_test = test_season.drop(['files', 'season'], axis = 1)\n",
    "y_season_test = test_season['season']\n",
    "season_lix = []\n",
    "season_liy = []\n",
    "season_index=0\n",
    "season_acc=0\n",
    "for k in range(1, 100):\n",
    "    season_neigh = KNeighborsClassifier(n_neighbors=k)\n",
    "    season_neigh.fit(X_season_train, y_season_train)\n",
    "    season_liy.append(season_neigh.score(X_season_test, y_season_test))\n",
    "    print(season_neigh.score(X_season_test, y_season_test))\n",
    "    if season_liy[k-1]>season_acc:\n",
    "        season_acc=season_liy[k-1]\n",
    "        season_index=k-1\n",
    "    season_lix.append(k)\n",
    "    "
   ]
  },
  {
   "cell_type": "markdown",
   "metadata": {},
   "source": [
    "# Usage Model"
   ]
  },
  {
   "cell_type": "code",
   "execution_count": 10,
   "metadata": {
    "scrolled": true
   },
   "outputs": [
    {
     "name": "stdout",
     "output_type": "stream",
     "text": [
      "0.6162687886825818\n",
      "0.7354848216917182\n",
      "0.735632183908046\n",
      "0.7511788977306219\n",
      "0.7569260241674035\n",
      "0.7601679929266136\n",
      "0.7647362216327733\n",
      "0.7661361626878869\n",
      "0.7674624226348364\n",
      "0.7688623636899499\n",
      "0.7695991747715886\n",
      "0.7697465369879163\n",
      "0.7698202180960801\n",
      "0.7704096669613911\n",
      "0.7703359858532273\n",
      "0.7703359858532273\n",
      "0.7706307102858827\n",
      "0.7707043913940466\n",
      "0.7707780725022104\n",
      "0.7708517536103743\n",
      "0.7708517536103743\n",
      "0.7708517536103743\n",
      "0.7708517536103743\n",
      "0.7708517536103743\n",
      "0.7708517536103743\n",
      "0.7708517536103743\n",
      "0.7708517536103743\n",
      "0.7708517536103743\n",
      "0.7708517536103743\n",
      "0.7708517536103743\n",
      "0.7708517536103743\n",
      "0.7708517536103743\n",
      "0.7708517536103743\n",
      "0.7708517536103743\n",
      "0.7708517536103743\n",
      "0.7708517536103743\n",
      "0.7708517536103743\n",
      "0.7708517536103743\n",
      "0.7708517536103743\n",
      "0.7708517536103743\n",
      "0.7708517536103743\n",
      "0.7708517536103743\n",
      "0.7708517536103743\n",
      "0.7708517536103743\n",
      "0.7708517536103743\n",
      "0.7708517536103743\n",
      "0.7708517536103743\n",
      "0.7708517536103743\n",
      "0.7708517536103743\n",
      "0.7708517536103743\n",
      "0.7708517536103743\n",
      "0.7708517536103743\n",
      "0.7708517536103743\n",
      "0.7708517536103743\n",
      "0.7708517536103743\n",
      "0.7708517536103743\n",
      "0.7708517536103743\n",
      "0.7708517536103743\n",
      "0.7708517536103743\n",
      "0.7708517536103743\n",
      "0.7708517536103743\n",
      "0.7708517536103743\n",
      "0.7708517536103743\n",
      "0.7708517536103743\n",
      "0.7708517536103743\n",
      "0.7708517536103743\n",
      "0.7708517536103743\n",
      "0.7708517536103743\n",
      "0.7708517536103743\n",
      "0.7708517536103743\n",
      "0.7708517536103743\n",
      "0.7708517536103743\n",
      "0.7708517536103743\n",
      "0.7708517536103743\n",
      "0.7708517536103743\n",
      "0.7708517536103743\n",
      "0.7708517536103743\n",
      "0.7708517536103743\n",
      "0.7708517536103743\n",
      "0.7708517536103743\n",
      "0.7708517536103743\n",
      "0.7708517536103743\n",
      "0.7708517536103743\n",
      "0.7708517536103743\n",
      "0.7708517536103743\n",
      "0.7708517536103743\n",
      "0.7708517536103743\n",
      "0.7708517536103743\n",
      "0.7708517536103743\n",
      "0.7708517536103743\n",
      "0.7708517536103743\n",
      "0.7708517536103743\n",
      "0.7708517536103743\n",
      "0.7708517536103743\n",
      "0.7708517536103743\n",
      "0.7708517536103743\n",
      "0.7708517536103743\n",
      "0.7708517536103743\n",
      "0.7708517536103743\n"
     ]
    }
   ],
   "source": [
    "train_usage = pd.read_csv('feauture_engg_data_usage.csv')\n",
    "test_usage = pd.read_csv('feauture_test_usage.csv')\n",
    "train_usage.drop(['Unnamed: 0'], axis = 1, inplace = True)\n",
    "test_usage.drop(['Unnamed: 0'], axis = 1, inplace = True)\n",
    "train_usage.drop(['Unnamed: 0.1'], axis = 1, inplace = True)\n",
    "test_usage.drop(['Unnamed: 0.1'], axis = 1, inplace = True)\n",
    "train_usage.head()\n",
    "X_usage_train = train_usage.drop(['files', 'usage'], axis = 1)\n",
    "y_usage_train = train_usage['usage']\n",
    "X_usage_test = test_usage.drop(['files', 'usage'], axis = 1)\n",
    "y_usage_test = test_usage['usage']\n",
    "usage_lix = []\n",
    "usage_liy = []\n",
    "usage_index=0\n",
    "usage_acc=0\n",
    "for k in range(1, 100):\n",
    "    usage_neigh = KNeighborsClassifier(n_neighbors=k)\n",
    "    usage_neigh.fit(X_usage_train, y_usage_train)\n",
    "    usage_liy.append(usage_neigh.score(X_usage_test, y_usage_test))\n",
    "    print(usage_neigh.score(X_usage_test, y_usage_test))\n",
    "    if usage_liy[k-1]>usage_acc:\n",
    "        usage_acc=usage_liy[k-1]\n",
    "        usage_index=k-1\n",
    "    usage_lix.append(k)\n",
    "    "
   ]
  },
  {
   "cell_type": "code",
   "execution_count": null,
   "metadata": {},
   "outputs": [],
   "source": []
  },
  {
   "cell_type": "code",
   "execution_count": 26,
   "metadata": {},
   "outputs": [
    {
     "name": "stdout",
     "output_type": "stream",
     "text": [
      "0.5123047450633658 0.1676982021809608 0.5141467727674625 0.7708517536103743\n"
     ]
    }
   ],
   "source": [
    "print(gender_acc, initial_acc, season_acc, usage_acc)"
   ]
  },
  {
   "cell_type": "code",
   "execution_count": 27,
   "metadata": {},
   "outputs": [
    {
     "name": "stdout",
     "output_type": "stream",
     "text": [
      "54 124 98 19\n"
     ]
    }
   ],
   "source": [
    "print(gender_index, initial_index, season_index, usage_index)"
   ]
  },
  {
   "cell_type": "markdown",
   "metadata": {},
   "source": [
    "# loading all the necessary files(Feautures from cnn model)"
   ]
  },
  {
   "cell_type": "code",
   "execution_count": 2,
   "metadata": {},
   "outputs": [],
   "source": [
    "    train_gender = pd.read_csv('feauture_engg_data_gender.csv')\n",
    "    test_gender = pd.read_csv('feauture_test_gender.csv')\n",
    "    train_gender.drop(['Unnamed: 0'], axis = 1, inplace = True)\n",
    "    test_gender.drop(['Unnamed: 0'], axis = 1, inplace = True)\n",
    "    X_gender_train = train_gender.drop(['files', 'gender'], axis = 1)\n",
    "    y_gender_train = train_gender['gender']\n",
    "    X_gender_test = test_gender.drop(['files', 'gender'], axis = 1)\n",
    "    y_gender_test = test_gender['gender']\n",
    "    train_initial = pd.read_csv('feauture_engg_data_initial.csv')\n",
    "    test_initial = pd.read_csv('feauture_test_initial.csv')\n",
    "    train_initial.drop(['Unnamed: 0.1'], axis = 1, inplace = True)\n",
    "    test_initial.drop(['Unnamed: 0.1'], axis = 1, inplace = True)\n",
    "    train_initial.drop(['Unnamed: 0'], axis = 1, inplace = True)\n",
    "    test_initial.drop(['Unnamed: 0'], axis = 1, inplace = True)\n",
    "    X_initial_train = train_initial.drop(['files', 'articleType'], axis = 1)\n",
    "    y_initial_train = train_initial['articleType']\n",
    "    X_initial_test = test_initial.drop(['files', 'articleType'], axis = 1)\n",
    "    y_initial_test = test_initial['articleType']\n",
    "    train_season = pd.read_csv('feauture_engg_data_season.csv')\n",
    "    test_season = pd.read_csv('feauture_test_season.csv')\n",
    "    train_season.drop(['Unnamed: 0'], axis = 1, inplace = True)\n",
    "    test_season.drop(['Unnamed: 0'], axis = 1, inplace = True)\n",
    "    train_season.drop(['Unnamed: 0.1'], axis = 1, inplace = True)\n",
    "    test_season.drop(['Unnamed: 0.1'], axis = 1, inplace = True)\n",
    "    X_season_train = train_season.drop(['files', 'season'], axis = 1)\n",
    "    y_season_train = train_season['season']\n",
    "    X_season_test = test_season.drop(['files', 'season'], axis = 1)\n",
    "    y_season_test = test_season['season']\n",
    "    train_usage = pd.read_csv('feauture_engg_data_usage.csv')\n",
    "    test_usage = pd.read_csv('feauture_test_usage.csv')\n",
    "    train_usage.drop(['Unnamed: 0'], axis = 1, inplace = True)\n",
    "    test_usage.drop(['Unnamed: 0'], axis = 1, inplace = True)\n",
    "    train_usage.drop(['Unnamed: 0.1'], axis = 1, inplace = True)\n",
    "    test_usage.drop(['Unnamed: 0.1'], axis = 1, inplace = True)\n",
    "    X_usage_train = train_usage.drop(['files', 'usage'], axis = 1)\n",
    "    y_usage_train = train_usage['usage']\n",
    "    X_usage_test = test_usage.drop(['files', 'usage'], axis = 1)\n",
    "    y_usage_test = test_usage['usage']\n",
    "    "
   ]
  },
  {
   "cell_type": "code",
   "execution_count": null,
   "metadata": {},
   "outputs": [],
   "source": []
  },
  {
   "cell_type": "code",
   "execution_count": null,
   "metadata": {},
   "outputs": [],
   "source": []
  },
  {
   "cell_type": "markdown",
   "metadata": {},
   "source": [
    "# Using NearestNeighbors for individual models"
   ]
  },
  {
   "cell_type": "code",
   "execution_count": 151,
   "metadata": {
    "scrolled": true
   },
   "outputs": [
    {
     "name": "stderr",
     "output_type": "stream",
     "text": [
      "C:\\Users\\dell\\Anaconda3\\lib\\site-packages\\ipykernel_launcher.py:3: FutureWarning: Method .as_matrix will be removed in a future version. Use .values instead.\n",
      "  This is separate from the ipykernel package so we can avoid doing imports until\n"
     ]
    }
   ],
   "source": [
    "gender_nn = NearestNeighbors(metric = 'cosine', algorithm = 'auto')\n",
    "gender_nn.fit(X_gender_train, y_gender_train)\n",
    "gender_distances, gender_indices = gender_nn.kneighbors(X_gender_test.iloc[250, :].as_matrix().reshape(1, -1), n_neighbors = 5000)"
   ]
  },
  {
   "cell_type": "code",
   "execution_count": 152,
   "metadata": {},
   "outputs": [
    {
     "name": "stderr",
     "output_type": "stream",
     "text": [
      "C:\\Users\\dell\\Anaconda3\\lib\\site-packages\\ipykernel_launcher.py:3: FutureWarning: Method .as_matrix will be removed in a future version. Use .values instead.\n",
      "  This is separate from the ipykernel package so we can avoid doing imports until\n"
     ]
    }
   ],
   "source": [
    "initial_nn = NearestNeighbors(metric = 'cosine', algorithm = 'auto')\n",
    "initial_nn.fit(X_initial_train, y_initial_train)\n",
    "initial_distances, initial_indices = initial_nn.kneighbors(X_initial_test.iloc[250, :].as_matrix().reshape(1, -1), n_neighbors = 5000)"
   ]
  },
  {
   "cell_type": "code",
   "execution_count": 153,
   "metadata": {},
   "outputs": [
    {
     "name": "stderr",
     "output_type": "stream",
     "text": [
      "C:\\Users\\dell\\Anaconda3\\lib\\site-packages\\ipykernel_launcher.py:3: FutureWarning: Method .as_matrix will be removed in a future version. Use .values instead.\n",
      "  This is separate from the ipykernel package so we can avoid doing imports until\n"
     ]
    }
   ],
   "source": [
    "season_nn = NearestNeighbors(metric = 'cosine', algorithm = 'auto')\n",
    "season_nn.fit(X_season_train, y_season_train)\n",
    "season_distances, season_indices = season_nn.kneighbors(X_season_test.iloc[250, :].as_matrix().reshape(1, -1), n_neighbors = 5000)"
   ]
  },
  {
   "cell_type": "code",
   "execution_count": 154,
   "metadata": {},
   "outputs": [
    {
     "name": "stderr",
     "output_type": "stream",
     "text": [
      "C:\\Users\\dell\\Anaconda3\\lib\\site-packages\\ipykernel_launcher.py:3: FutureWarning: Method .as_matrix will be removed in a future version. Use .values instead.\n",
      "  This is separate from the ipykernel package so we can avoid doing imports until\n"
     ]
    }
   ],
   "source": [
    "usage_nn = NearestNeighbors(metric = 'cosine', algorithm = 'auto')\n",
    "usage_nn.fit(X_usage_train, y_usage_train)\n",
    "usage_distances, usage_indices = usage_nn.kneighbors(X_usage_test.iloc[250, :].as_matrix().reshape(1, -1), n_neighbors = 5000)"
   ]
  },
  {
   "cell_type": "markdown",
   "metadata": {},
   "source": [
    "# Finding nearest for all models combined. I have found 4000 nearest neighbors for each model because later in the code I want to find common neighbors among all the models"
   ]
  },
  {
   "cell_type": "code",
   "execution_count": 196,
   "metadata": {},
   "outputs": [
    {
     "name": "stderr",
     "output_type": "stream",
     "text": [
      "C:\\Users\\dell\\Anaconda3\\lib\\site-packages\\ipykernel_launcher.py:5: FutureWarning: Method .as_matrix will be removed in a future version. Use .values instead.\n",
      "  \"\"\"\n",
      "C:\\Users\\dell\\Anaconda3\\lib\\site-packages\\ipykernel_launcher.py:8: FutureWarning: Method .as_matrix will be removed in a future version. Use .values instead.\n",
      "  \n",
      "C:\\Users\\dell\\Anaconda3\\lib\\site-packages\\ipykernel_launcher.py:11: FutureWarning: Method .as_matrix will be removed in a future version. Use .values instead.\n",
      "  # This is added back by InteractiveShellApp.init_path()\n",
      "C:\\Users\\dell\\Anaconda3\\lib\\site-packages\\ipykernel_launcher.py:14: FutureWarning: Method .as_matrix will be removed in a future version. Use .values instead.\n",
      "  \n"
     ]
    }
   ],
   "source": [
    "i = 600\n",
    "n = 4000\n",
    "gender_nn = NearestNeighbors(metric = 'cosine', algorithm = 'auto')\n",
    "gender_nn.fit(X_gender_train, y_gender_train)\n",
    "gender_distances, gender_indices = gender_nn.kneighbors(X_gender_test.iloc[i, :].as_matrix().reshape(1, -1), n_neighbors = n)\n",
    "initial_nn = NearestNeighbors(metric = 'cosine', algorithm = 'auto')\n",
    "initial_nn.fit(X_initial_train, y_initial_train)\n",
    "initial_distances, initial_indices = initial_nn.kneighbors(X_initial_test.iloc[i, :].as_matrix().reshape(1, -1), n_neighbors = n)\n",
    "season_nn = NearestNeighbors(metric = 'cosine', algorithm = 'auto')\n",
    "season_nn.fit(X_season_train, y_season_train)\n",
    "season_distances, season_indices = season_nn.kneighbors(X_season_test.iloc[i, :].as_matrix().reshape(1, -1), n_neighbors = n)\n",
    "usage_nn = NearestNeighbors(metric = 'cosine', algorithm = 'auto')\n",
    "usage_nn.fit(X_usage_train, y_usage_train)\n",
    "usage_distances, usage_indices = usage_nn.kneighbors(X_usage_test.iloc[i, :].as_matrix().reshape(1, -1), n_neighbors = n)"
   ]
  },
  {
   "cell_type": "markdown",
   "metadata": {},
   "source": [
    "# Find Intersection among all predicted neighbors"
   ]
  },
  {
   "cell_type": "code",
   "execution_count": 197,
   "metadata": {
    "scrolled": true
   },
   "outputs": [],
   "source": [
    "intersection_list = (np.intersect1d(np.intersect1d(np.intersect1d(usage_indices, season_indices), initial_indices), gender_indices))"
   ]
  },
  {
   "cell_type": "markdown",
   "metadata": {},
   "source": [
    "# Test Image"
   ]
  },
  {
   "cell_type": "code",
   "execution_count": 198,
   "metadata": {
    "scrolled": true
   },
   "outputs": [
    {
     "data": {
      "text/plain": [
       "<matplotlib.image.AxesImage at 0x2a77b9a2a48>"
      ]
     },
     "execution_count": 198,
     "metadata": {},
     "output_type": "execute_result"
    },
    {
     "data": {
      "image/png": "[encoded data removed]",
      "text/plain": [
       "<Figure size 432x288 with 1 Axes>"
      ]
     },
     "metadata": {
      "needs_background": "light"
     },
     "output_type": "display_data"
    }
   ],
   "source": [
    "im = img.imread(test_gender.iloc[i][0]) \n",
    "plt.imshow(im) "
   ]
  },
  {
   "cell_type": "code",
   "execution_count": 199,
   "metadata": {},
   "outputs": [
    {
     "data": {
      "text/plain": [
       "array([  968,  2910,  3596,  7451, 10038, 15049, 16658, 18981, 19203,\n",
       "       20315], dtype=int64)"
      ]
     },
     "execution_count": 199,
     "metadata": {},
     "output_type": "execute_result"
    }
   ],
   "source": [
    "intersection_list"
   ]
  },
  {
   "cell_type": "code",
   "execution_count": 200,
   "metadata": {},
   "outputs": [
    {
     "name": "stdout",
     "output_type": "stream",
     "text": [
      "['2237.jpg', '42964.jpg', '3049.jpg', '23125.jpg', '15604.jpg', '6971.jpg', '2369.jpg', '14049.jpg', '48618.jpg', '37682.jpg']\n"
     ]
    }
   ],
   "source": [
    "image_names = []\n",
    "for i in range(len(intersection_list)):\n",
    "    image_names.append(train_gender.iloc[intersection_list[i]][0])\n",
    "print(image_names)"
   ]
  },
  {
   "cell_type": "code",
   "execution_count": 201,
   "metadata": {},
   "outputs": [
    {
     "data": {
      "text/plain": [
       "10"
      ]
     },
     "execution_count": 201,
     "metadata": {},
     "output_type": "execute_result"
    }
   ],
   "source": [
    "len(image_names)"
   ]
  },
  {
   "cell_type": "markdown",
   "metadata": {},
   "source": [
    "# Common neighbors images"
   ]
  },
  {
   "cell_type": "code",
   "execution_count": 202,
   "metadata": {
    "scrolled": false
   },
   "outputs": [
    {
     "data": {
      "image/png": "[encoded data removed]",
      "text/plain": [
       "<Figure size 864x864 with 10 Axes>"
      ]
     },
     "metadata": {
      "needs_background": "light"
     },
     "output_type": "display_data"
    }
   ],
   "source": [
    "f, axarr = plt.subplots(2,5, figsize = (12,12))\n",
    "index = 0\n",
    "for i in range(2):\n",
    "    for j in range(5):\n",
    "        im = img.imread(image_names[index]) \n",
    "        axarr[i,j].imshow(im)\n",
    "        index = index +1"
   ]
  },
  {
   "cell_type": "code",
   "execution_count": null,
   "metadata": {},
   "outputs": [],
   "source": []
  }
 ],
 "metadata": {
  "kernelspec": {
   "display_name": "Python 3",
   "language": "python",
   "name": "python3"
  },
  "language_info": {
   "codemirror_mode": {
    "name": "ipython",
    "version": 3
   },
   "file_extension": ".py",
   "mimetype": "text/x-python",
   "name": "python",
   "nbconvert_exporter": "python",
   "pygments_lexer": "ipython3",
   "version": "3.7.4"
  }
 },
 "nbformat": 4,
 "nbformat_minor": 2
}
